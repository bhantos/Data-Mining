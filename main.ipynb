{
  "nbformat": 4,
  "nbformat_minor": 0,
  "metadata": {
    "colab": {
      "name": "main.ipynb",
      "provenance": [],
      "collapsed_sections": [],
      "toc_visible": true
    },
    "kernelspec": {
      "display_name": "Python (Qiskitenv",
      "language": "python",
      "name": "qiskitenv"
    },
    "language_info": {
      "codemirror_mode": {
        "name": "ipython",
        "version": 3
      },
      "file_extension": ".py",
      "mimetype": "text/x-python",
      "name": "python",
      "nbconvert_exporter": "python",
      "pygments_lexer": "ipython3",
      "version": "3.7.6-final"
    },
    "accelerator": "GPU"
  },
  "cells": [
    {
      "cell_type": "code",
      "metadata": {
        "id": "ih1zcUxlSZJy"
      },
      "source": [
        "import numpy as np\n",
        "import matplotlib.pyplot as plt\n",
        "import pandas as pd\n",
        "import seaborn as sns\n",
        "import datetime"
      ],
      "execution_count": 1,
      "outputs": []
    },
    {
      "cell_type": "code",
      "metadata": {
        "id": "6YBxDk_FSZJ8"
      },
      "source": [
        "def missing_value_summary(df,df_title=\"\",tpose = True,figsize=[15,6]):\n",
        "    '''\n",
        "    tpose - True if the figure should be transposed\n",
        "    '''\n",
        "    num_of_na = df.isna().sum(axis=0) #Dict with number of missing features by column\n",
        "    print(\"Missing values in {}\\n\".format(df_title))\n",
        "    [print(x,\":\",num_of_na[x]) \n",
        "     if num_of_na[x] != 0 \n",
        "     else None \n",
        "     for x in df.columns] # Broken into multiple lines for better readability\n",
        "\n",
        "    print(\"\\nratio of missing features in the whole table: \", df.isna().sum().sum()/df.count().sum() )\n",
        "    print(\"Number of rows: \", df.shape[0])"
      ],
      "execution_count": 2,
      "outputs": []
    },
    {
      "cell_type": "code",
      "metadata": {
        "id": "D8oioaiJSyhk",
        "colab": {
          "base_uri": "https://localhost:8080/"
        },
        "outputId": "f765f657-881a-4a33-f618-7ea91eb78def"
      },
      "source": [
        "from google.colab import drive\n",
        "drive.mount('/gdrive')"
      ],
      "execution_count": 3,
      "outputs": [
        {
          "output_type": "stream",
          "text": [
            "Mounted at /gdrive\n"
          ],
          "name": "stdout"
        }
      ]
    },
    {
      "cell_type": "code",
      "metadata": {
        "id": "V5PWQJMYSZJ_",
        "colab": {
          "base_uri": "https://localhost:8080/",
          "height": 245
        },
        "outputId": "c78eaa3c-62da-4fd1-e4b0-dd6ab7706ff9"
      },
      "source": [
        "Parse = lambda x: datetime.datetime.strptime(x, \"%Y-%m-%d %H:%M:%S\").date()\n",
        "cars = pd.read_csv(\"/gdrive/MyDrive/datamining/mainproject/cars.csv\",encoding='latin', date_parser=Parse, parse_dates = [\"dateCrawled\", \"dateCreated\", \"lastSeen\"])\n",
        "#getting rid of unnecessary data about the time of crawling\n",
        "# enconding, otherwise UnicodeDecodeError\n",
        "#https://stackoverflow.com/questions/18171739/unicodedecodeerror-when-reading-csv-file-in-pandas-with-python\n",
        "print(cars.shape)\n",
        "cars.head()"
      ],
      "execution_count": 4,
      "outputs": [
        {
          "output_type": "stream",
          "text": [
            "(371528, 20)\n"
          ],
          "name": "stdout"
        },
        {
          "output_type": "execute_result",
          "data": {
            "text/html": [
              "<div>\n",
              "<style scoped>\n",
              "    .dataframe tbody tr th:only-of-type {\n",
              "        vertical-align: middle;\n",
              "    }\n",
              "\n",
              "    .dataframe tbody tr th {\n",
              "        vertical-align: top;\n",
              "    }\n",
              "\n",
              "    .dataframe thead th {\n",
              "        text-align: right;\n",
              "    }\n",
              "</style>\n",
              "<table border=\"1\" class=\"dataframe\">\n",
              "  <thead>\n",
              "    <tr style=\"text-align: right;\">\n",
              "      <th></th>\n",
              "      <th>dateCrawled</th>\n",
              "      <th>name</th>\n",
              "      <th>seller</th>\n",
              "      <th>offerType</th>\n",
              "      <th>price</th>\n",
              "      <th>abtest</th>\n",
              "      <th>vehicleType</th>\n",
              "      <th>yearOfRegistration</th>\n",
              "      <th>gearbox</th>\n",
              "      <th>powerPS</th>\n",
              "      <th>model</th>\n",
              "      <th>kilometer</th>\n",
              "      <th>monthOfRegistration</th>\n",
              "      <th>fuelType</th>\n",
              "      <th>brand</th>\n",
              "      <th>notRepairedDamage</th>\n",
              "      <th>dateCreated</th>\n",
              "      <th>nrOfPictures</th>\n",
              "      <th>postalCode</th>\n",
              "      <th>lastSeen</th>\n",
              "    </tr>\n",
              "  </thead>\n",
              "  <tbody>\n",
              "    <tr>\n",
              "      <th>0</th>\n",
              "      <td>2016-03-24</td>\n",
              "      <td>Golf_3_1.6</td>\n",
              "      <td>privat</td>\n",
              "      <td>Angebot</td>\n",
              "      <td>480</td>\n",
              "      <td>test</td>\n",
              "      <td>NaN</td>\n",
              "      <td>1993</td>\n",
              "      <td>manuell</td>\n",
              "      <td>0</td>\n",
              "      <td>golf</td>\n",
              "      <td>150000</td>\n",
              "      <td>0</td>\n",
              "      <td>benzin</td>\n",
              "      <td>volkswagen</td>\n",
              "      <td>NaN</td>\n",
              "      <td>2016-03-24</td>\n",
              "      <td>0</td>\n",
              "      <td>70435</td>\n",
              "      <td>2016-04-07</td>\n",
              "    </tr>\n",
              "    <tr>\n",
              "      <th>1</th>\n",
              "      <td>2016-03-24</td>\n",
              "      <td>A5_Sportback_2.7_Tdi</td>\n",
              "      <td>privat</td>\n",
              "      <td>Angebot</td>\n",
              "      <td>18300</td>\n",
              "      <td>test</td>\n",
              "      <td>coupe</td>\n",
              "      <td>2011</td>\n",
              "      <td>manuell</td>\n",
              "      <td>190</td>\n",
              "      <td>NaN</td>\n",
              "      <td>125000</td>\n",
              "      <td>5</td>\n",
              "      <td>diesel</td>\n",
              "      <td>audi</td>\n",
              "      <td>ja</td>\n",
              "      <td>2016-03-24</td>\n",
              "      <td>0</td>\n",
              "      <td>66954</td>\n",
              "      <td>2016-04-07</td>\n",
              "    </tr>\n",
              "    <tr>\n",
              "      <th>2</th>\n",
              "      <td>2016-03-14</td>\n",
              "      <td>Jeep_Grand_Cherokee_\"Overland\"</td>\n",
              "      <td>privat</td>\n",
              "      <td>Angebot</td>\n",
              "      <td>9800</td>\n",
              "      <td>test</td>\n",
              "      <td>suv</td>\n",
              "      <td>2004</td>\n",
              "      <td>automatik</td>\n",
              "      <td>163</td>\n",
              "      <td>grand</td>\n",
              "      <td>125000</td>\n",
              "      <td>8</td>\n",
              "      <td>diesel</td>\n",
              "      <td>jeep</td>\n",
              "      <td>NaN</td>\n",
              "      <td>2016-03-14</td>\n",
              "      <td>0</td>\n",
              "      <td>90480</td>\n",
              "      <td>2016-04-05</td>\n",
              "    </tr>\n",
              "    <tr>\n",
              "      <th>3</th>\n",
              "      <td>2016-03-17</td>\n",
              "      <td>GOLF_4_1_4__3TÜRER</td>\n",
              "      <td>privat</td>\n",
              "      <td>Angebot</td>\n",
              "      <td>1500</td>\n",
              "      <td>test</td>\n",
              "      <td>kleinwagen</td>\n",
              "      <td>2001</td>\n",
              "      <td>manuell</td>\n",
              "      <td>75</td>\n",
              "      <td>golf</td>\n",
              "      <td>150000</td>\n",
              "      <td>6</td>\n",
              "      <td>benzin</td>\n",
              "      <td>volkswagen</td>\n",
              "      <td>nein</td>\n",
              "      <td>2016-03-17</td>\n",
              "      <td>0</td>\n",
              "      <td>91074</td>\n",
              "      <td>2016-03-17</td>\n",
              "    </tr>\n",
              "    <tr>\n",
              "      <th>4</th>\n",
              "      <td>2016-03-31</td>\n",
              "      <td>Skoda_Fabia_1.4_TDI_PD_Classic</td>\n",
              "      <td>privat</td>\n",
              "      <td>Angebot</td>\n",
              "      <td>3600</td>\n",
              "      <td>test</td>\n",
              "      <td>kleinwagen</td>\n",
              "      <td>2008</td>\n",
              "      <td>manuell</td>\n",
              "      <td>69</td>\n",
              "      <td>fabia</td>\n",
              "      <td>90000</td>\n",
              "      <td>7</td>\n",
              "      <td>diesel</td>\n",
              "      <td>skoda</td>\n",
              "      <td>nein</td>\n",
              "      <td>2016-03-31</td>\n",
              "      <td>0</td>\n",
              "      <td>60437</td>\n",
              "      <td>2016-04-06</td>\n",
              "    </tr>\n",
              "  </tbody>\n",
              "</table>\n",
              "</div>"
            ],
            "text/plain": [
              "  dateCrawled                            name  ... postalCode   lastSeen\n",
              "0  2016-03-24                      Golf_3_1.6  ...      70435 2016-04-07\n",
              "1  2016-03-24            A5_Sportback_2.7_Tdi  ...      66954 2016-04-07\n",
              "2  2016-03-14  Jeep_Grand_Cherokee_\"Overland\"  ...      90480 2016-04-05\n",
              "3  2016-03-17              GOLF_4_1_4__3TÜRER  ...      91074 2016-03-17\n",
              "4  2016-03-31  Skoda_Fabia_1.4_TDI_PD_Classic  ...      60437 2016-04-06\n",
              "\n",
              "[5 rows x 20 columns]"
            ]
          },
          "metadata": {
            "tags": []
          },
          "execution_count": 4
        }
      ]
    },
    {
      "cell_type": "code",
      "metadata": {
        "id": "MTvCEuqVSZKD"
      },
      "source": [
        "cars_default = cars"
      ],
      "execution_count": 5,
      "outputs": []
    },
    {
      "cell_type": "code",
      "metadata": {
        "id": "an9ktyrhSZKF"
      },
      "source": [
        "cars = cars_default"
      ],
      "execution_count": 6,
      "outputs": []
    },
    {
      "cell_type": "markdown",
      "metadata": {
        "id": "QzmIblPsSZKG"
      },
      "source": [
        "# Exploratory data analysis"
      ]
    },
    {
      "cell_type": "code",
      "metadata": {
        "colab": {
          "base_uri": "https://localhost:8080/",
          "height": 300
        },
        "id": "zFeqqrn8SZKH",
        "outputId": "66b07709-52a8-4cb9-94e0-4c9a513ccc0b"
      },
      "source": [
        "cars.describe()"
      ],
      "execution_count": 7,
      "outputs": [
        {
          "output_type": "execute_result",
          "data": {
            "text/html": [
              "<div>\n",
              "<style scoped>\n",
              "    .dataframe tbody tr th:only-of-type {\n",
              "        vertical-align: middle;\n",
              "    }\n",
              "\n",
              "    .dataframe tbody tr th {\n",
              "        vertical-align: top;\n",
              "    }\n",
              "\n",
              "    .dataframe thead th {\n",
              "        text-align: right;\n",
              "    }\n",
              "</style>\n",
              "<table border=\"1\" class=\"dataframe\">\n",
              "  <thead>\n",
              "    <tr style=\"text-align: right;\">\n",
              "      <th></th>\n",
              "      <th>price</th>\n",
              "      <th>yearOfRegistration</th>\n",
              "      <th>powerPS</th>\n",
              "      <th>kilometer</th>\n",
              "      <th>monthOfRegistration</th>\n",
              "      <th>nrOfPictures</th>\n",
              "      <th>postalCode</th>\n",
              "    </tr>\n",
              "  </thead>\n",
              "  <tbody>\n",
              "    <tr>\n",
              "      <th>count</th>\n",
              "      <td>3.715280e+05</td>\n",
              "      <td>371528.000000</td>\n",
              "      <td>371528.000000</td>\n",
              "      <td>371528.000000</td>\n",
              "      <td>371528.000000</td>\n",
              "      <td>371528.0</td>\n",
              "      <td>371528.00000</td>\n",
              "    </tr>\n",
              "    <tr>\n",
              "      <th>mean</th>\n",
              "      <td>1.729514e+04</td>\n",
              "      <td>2004.577997</td>\n",
              "      <td>115.549477</td>\n",
              "      <td>125618.688228</td>\n",
              "      <td>5.734445</td>\n",
              "      <td>0.0</td>\n",
              "      <td>50820.66764</td>\n",
              "    </tr>\n",
              "    <tr>\n",
              "      <th>std</th>\n",
              "      <td>3.587954e+06</td>\n",
              "      <td>92.866598</td>\n",
              "      <td>192.139578</td>\n",
              "      <td>40112.337051</td>\n",
              "      <td>3.712412</td>\n",
              "      <td>0.0</td>\n",
              "      <td>25799.08247</td>\n",
              "    </tr>\n",
              "    <tr>\n",
              "      <th>min</th>\n",
              "      <td>0.000000e+00</td>\n",
              "      <td>1000.000000</td>\n",
              "      <td>0.000000</td>\n",
              "      <td>5000.000000</td>\n",
              "      <td>0.000000</td>\n",
              "      <td>0.0</td>\n",
              "      <td>1067.00000</td>\n",
              "    </tr>\n",
              "    <tr>\n",
              "      <th>25%</th>\n",
              "      <td>1.150000e+03</td>\n",
              "      <td>1999.000000</td>\n",
              "      <td>70.000000</td>\n",
              "      <td>125000.000000</td>\n",
              "      <td>3.000000</td>\n",
              "      <td>0.0</td>\n",
              "      <td>30459.00000</td>\n",
              "    </tr>\n",
              "    <tr>\n",
              "      <th>50%</th>\n",
              "      <td>2.950000e+03</td>\n",
              "      <td>2003.000000</td>\n",
              "      <td>105.000000</td>\n",
              "      <td>150000.000000</td>\n",
              "      <td>6.000000</td>\n",
              "      <td>0.0</td>\n",
              "      <td>49610.00000</td>\n",
              "    </tr>\n",
              "    <tr>\n",
              "      <th>75%</th>\n",
              "      <td>7.200000e+03</td>\n",
              "      <td>2008.000000</td>\n",
              "      <td>150.000000</td>\n",
              "      <td>150000.000000</td>\n",
              "      <td>9.000000</td>\n",
              "      <td>0.0</td>\n",
              "      <td>71546.00000</td>\n",
              "    </tr>\n",
              "    <tr>\n",
              "      <th>max</th>\n",
              "      <td>2.147484e+09</td>\n",
              "      <td>9999.000000</td>\n",
              "      <td>20000.000000</td>\n",
              "      <td>150000.000000</td>\n",
              "      <td>12.000000</td>\n",
              "      <td>0.0</td>\n",
              "      <td>99998.00000</td>\n",
              "    </tr>\n",
              "  </tbody>\n",
              "</table>\n",
              "</div>"
            ],
            "text/plain": [
              "              price  yearOfRegistration  ...  nrOfPictures    postalCode\n",
              "count  3.715280e+05       371528.000000  ...      371528.0  371528.00000\n",
              "mean   1.729514e+04         2004.577997  ...           0.0   50820.66764\n",
              "std    3.587954e+06           92.866598  ...           0.0   25799.08247\n",
              "min    0.000000e+00         1000.000000  ...           0.0    1067.00000\n",
              "25%    1.150000e+03         1999.000000  ...           0.0   30459.00000\n",
              "50%    2.950000e+03         2003.000000  ...           0.0   49610.00000\n",
              "75%    7.200000e+03         2008.000000  ...           0.0   71546.00000\n",
              "max    2.147484e+09         9999.000000  ...           0.0   99998.00000\n",
              "\n",
              "[8 rows x 7 columns]"
            ]
          },
          "metadata": {
            "tags": []
          },
          "execution_count": 7
        }
      ]
    },
    {
      "cell_type": "code",
      "metadata": {
        "id": "goSe0ResSZKJ",
        "colab": {
          "base_uri": "https://localhost:8080/"
        },
        "outputId": "f34c3f2e-7305-4e81-ec3f-7c0389fa02df"
      },
      "source": [
        "cars.price.skew()"
      ],
      "execution_count": 8,
      "outputs": [
        {
          "output_type": "execute_result",
          "data": {
            "text/plain": [
              "578.0590836551854"
            ]
          },
          "metadata": {
            "tags": []
          },
          "execution_count": 8
        }
      ]
    },
    {
      "cell_type": "markdown",
      "metadata": {
        "id": "iYNMOfYDSZKK"
      },
      "source": [
        "There's a lot to unpack here, so let's take a look at every column:\n",
        "- Regarding the price distribution, we can see, that the mean is much greater than any quartiles values. Based on that I claim, that the distribution is not that skewed by itself, so to have such a great mean, it must be because of some outliers.\n",
        "- The year of registration column has some weird element(min and the max), but other than that, it looks okayish. The mean is okay, though the standard deviation doesn't make too much sense.\n",
        "- Power has the same problems: some outliers.\n",
        "- The odometer data is actually believable.\n",
        "- The month of registration is a little off, because there is 0-12 months (=13).\n",
        "- The number of pictures is a column with full of zeros. Better be removed, no predictive power at all.\n",
        "-  According to [Wiki on German postal codes](https://en.wikipedia.org/wiki/List_of_postal_codes_in_Germany), those should be between 0-99999. Postal codes look okay. There could be some digging made, if some postal codes exist at all, but it's not worth the effort at the moment."
      ]
    },
    {
      "cell_type": "code",
      "metadata": {
        "colab": {
          "base_uri": "https://localhost:8080/"
        },
        "id": "58uOKEpwSZKM",
        "outputId": "3de7f005-f522-42bb-f8c9-157a32cd0b20"
      },
      "source": [
        "cars.price.value_counts()"
      ],
      "execution_count": 9,
      "outputs": [
        {
          "output_type": "execute_result",
          "data": {
            "text/plain": [
              "0         10778\n",
              "500        5670\n",
              "1500       5394\n",
              "1000       4649\n",
              "1200       4594\n",
              "          ...  \n",
              "23456         1\n",
              "171000        1\n",
              "21830         1\n",
              "13485         1\n",
              "8188          1\n",
              "Name: price, Length: 5597, dtype: int64"
            ]
          },
          "metadata": {
            "tags": []
          },
          "execution_count": 9
        }
      ]
    },
    {
      "cell_type": "code",
      "metadata": {
        "id": "cEpiIXDbSZKP"
      },
      "source": [
        "cars = cars[cars.price > 0]  #lets remove every entry with 0 price\n",
        "cars = cars[cars.price < 40000] \n",
        "#40000 euros @330 HUF/EUR is about 13M Ft. Set it as maximum, that the average driver would spend on a used car."
      ],
      "execution_count": 10,
      "outputs": []
    },
    {
      "cell_type": "code",
      "metadata": {
        "id": "IV9EuxxtSZKS",
        "colab": {
          "base_uri": "https://localhost:8080/",
          "height": 412
        },
        "outputId": "6e27c114-e22a-4fef-c4a9-df89632a6c0d"
      },
      "source": [
        "plt.figure(figsize=[8,6])\n",
        "plt.hist(cars.price,bins=100, color=\"tab:orange\")\n",
        "plt.xlabel(\"price\",size=14)\n",
        "plt.title(\"Used car price distribution\",size=18)\n",
        "plt.ylabel(\"frequency\",size=14)\n",
        "plt.grid()\n",
        "None"
      ],
      "execution_count": 11,
      "outputs": [
        {
          "output_type": "display_data",
          "data": {
            "image/png": "[encoded data removed]",
            "text/plain": [
              "<Figure size 576x432 with 1 Axes>"
            ]
          },
          "metadata": {
            "tags": [],
            "needs_background": "light"
          }
        }
      ]
    },
    {
      "cell_type": "code",
      "metadata": {
        "id": "Mgv0FetOSZKT",
        "colab": {
          "base_uri": "https://localhost:8080/"
        },
        "outputId": "f3c0a3f6-c2a6-4317-b27f-a053cd991aec"
      },
      "source": [
        "cars.yearOfRegistration.value_counts()\n",
        "#We don't want our model to predict prices of exceptionally old cars, so let's limit the year of registration at 1980. Also, Limit the max year at 2016, since that was the year when the data was scraped, thus filter the outliers and false data."
      ],
      "execution_count": 12,
      "outputs": [
        {
          "output_type": "execute_result",
          "data": {
            "text/plain": [
              "2000    23109\n",
              "1999    22023\n",
              "2005    21685\n",
              "2006    19944\n",
              "2001    19724\n",
              "        ...  \n",
              "1925        1\n",
              "3200        1\n",
              "7800        1\n",
              "1400        1\n",
              "4100        1\n",
              "Name: yearOfRegistration, Length: 143, dtype: int64"
            ]
          },
          "metadata": {
            "tags": []
          },
          "execution_count": 12
        }
      ]
    },
    {
      "cell_type": "code",
      "metadata": {
        "id": "0xz2vIopSZKU"
      },
      "source": [
        "cars = cars[cars.yearOfRegistration > 1980]\n",
        "cars = cars[cars.yearOfRegistration < 2017]"
      ],
      "execution_count": 13,
      "outputs": []
    },
    {
      "cell_type": "code",
      "metadata": {
        "id": "WL3aJ-MtSZKU",
        "colab": {
          "base_uri": "https://localhost:8080/",
          "height": 412
        },
        "outputId": "02164dcc-341f-4744-e298-a9cd04d59f77"
      },
      "source": [
        "plt.figure(figsize=[8,6])\n",
        "plt.hist(cars.yearOfRegistration,bins=30, color=\"tab:purple\")\n",
        "plt.xlabel(\"year\",size=14)\n",
        "plt.title(\"Used car year of registration distribution\",size=18)\n",
        "plt.ylabel(\"frequency\",size=14)\n",
        "plt.grid()\n",
        "None"
      ],
      "execution_count": 14,
      "outputs": [
        {
          "output_type": "display_data",
          "data": {
            "image/png": "[encoded data removed]",
            "text/plain": [
              "<Figure size 576x432 with 1 Axes>"
            ]
          },
          "metadata": {
            "tags": [],
            "needs_background": "light"
          }
        }
      ]
    },
    {
      "cell_type": "code",
      "metadata": {
        "id": "oJddnNnoSZKV",
        "colab": {
          "base_uri": "https://localhost:8080/"
        },
        "outputId": "7125b708-2f50-4580-eec6-a4eaee891a35"
      },
      "source": [
        "(cars.powerPS == 0).sum()\n",
        "#This may indicate that the power data is missing here.\n",
        "#Let's make a feature to express if the power data is missing, and the column with median"
      ],
      "execution_count": 15,
      "outputs": [
        {
          "output_type": "execute_result",
          "data": {
            "text/plain": [
              "32047"
            ]
          },
          "metadata": {
            "tags": []
          },
          "execution_count": 15
        }
      ]
    },
    {
      "cell_type": "code",
      "metadata": {
        "id": "-RAbWYjFSZKV"
      },
      "source": [
        "cars[\"powerMissing\"] = cars.powerPS.map(lambda x: 1 if x == 0 else 0)"
      ],
      "execution_count": 16,
      "outputs": []
    },
    {
      "cell_type": "code",
      "metadata": {
        "id": "EKg8bpbLSZKW"
      },
      "source": [
        "power_median = cars.powerPS.median()\n",
        "cars[\"powerPS\"] = cars.powerPS.map(lambda x: power_median if x == 0 else x)"
      ],
      "execution_count": 17,
      "outputs": []
    },
    {
      "cell_type": "code",
      "metadata": {
        "id": "UBFwLP2RSZKX"
      },
      "source": [
        "#Also remove industrial vehicles and racecars\n",
        "cars = cars[cars.powerPS < 1000]"
      ],
      "execution_count": 18,
      "outputs": []
    },
    {
      "cell_type": "code",
      "metadata": {
        "colab": {
          "base_uri": "https://localhost:8080/"
        },
        "id": "bdvpiaATSZKX",
        "outputId": "e2e11684-1a57-4681-ffc6-77d1ea622014"
      },
      "source": [
        "cars.monthOfRegistration.value_counts()\n",
        "#I actually don't know what we could do about it. There is no pattern to recognize how we got 13 months, but this feature seems valuable. \n",
        "#We could introduce some periodicity, so that january and december are not so far away from each other."
      ],
      "execution_count": 19,
      "outputs": [
        {
          "output_type": "execute_result",
          "data": {
            "text/plain": [
              "3     33737\n",
              "6     30732\n",
              "0     28819\n",
              "4     28738\n",
              "5     28521\n",
              "7     26572\n",
              "10    25690\n",
              "11    23990\n",
              "12    23729\n",
              "9     23565\n",
              "1     22643\n",
              "8     22153\n",
              "2     20807\n",
              "Name: monthOfRegistration, dtype: int64"
            ]
          },
          "metadata": {
            "tags": []
          },
          "execution_count": 19
        }
      ]
    },
    {
      "cell_type": "code",
      "metadata": {
        "id": "CG_lbiaySZKX",
        "colab": {
          "base_uri": "https://localhost:8080/",
          "height": 396
        },
        "outputId": "fa022edc-b70e-499e-8b05-d31acf159382"
      },
      "source": [
        "plt.figure(figsize=[8,6])\n",
        "plt.polar()\n",
        "plt.xticks(np.linspace(0,2*np.pi,14), [\"jan\",\"feb\",\"march\",\"apr\",\"may\",\"june\",\"july\",\"aug\",\"sep\",\"oct\",\"nov\",\"dec\",\"extra month\",\"\"], size=14)\n",
        "plt.yticks(size=0)\n",
        "plt.savefig(\"polar_month_plot.png\")"
      ],
      "execution_count": 20,
      "outputs": [
        {
          "output_type": "display_data",
          "data": {
            "image/png": "[encoded data removed]",
            "text/plain": [
              "<Figure size 576x432 with 1 Axes>"
            ]
          },
          "metadata": {
            "tags": [],
            "needs_background": "light"
          }
        }
      ]
    },
    {
      "cell_type": "code",
      "metadata": {
        "id": "sxeBpGnuSZKY"
      },
      "source": [
        "cars[\"monthOfReg1\"] = np.cos((cars.monthOfRegistration) / 14 * 2*np.pi)\n",
        "cars[\"monthOfReg2\"] = np.sin((cars.monthOfRegistration) / 14 * 2*np.pi)\n"
      ],
      "execution_count": 21,
      "outputs": []
    },
    {
      "cell_type": "code",
      "metadata": {
        "id": "skm-l9XcSZKY"
      },
      "source": [
        "cars = cars.drop(columns= [\"monthOfRegistration\",\"nrOfPictures\"])"
      ],
      "execution_count": 22,
      "outputs": []
    },
    {
      "cell_type": "code",
      "metadata": {
        "colab": {
          "base_uri": "https://localhost:8080/"
        },
        "id": "16EgX-OtSZKZ",
        "outputId": "70988c06-5e02-47c5-ef94-330d0486039b"
      },
      "source": [
        "cars.seller.value_counts()\n",
        "#There's just 2 ads from a car dealership, let's get rid of this feature."
      ],
      "execution_count": 23,
      "outputs": [
        {
          "output_type": "execute_result",
          "data": {
            "text/plain": [
              "privat        339694\n",
              "gewerblich         2\n",
              "Name: seller, dtype: int64"
            ]
          },
          "metadata": {
            "tags": []
          },
          "execution_count": 23
        }
      ]
    },
    {
      "cell_type": "code",
      "metadata": {
        "id": "bfEBZmnESZKZ"
      },
      "source": [
        "cars = cars[cars.seller == \"privat\"].drop(columns=\"seller\")"
      ],
      "execution_count": 24,
      "outputs": []
    },
    {
      "cell_type": "code",
      "metadata": {
        "colab": {
          "base_uri": "https://localhost:8080/"
        },
        "id": "7gw0WtIZSZKa",
        "outputId": "99e941bc-cf39-469f-dd0e-df9dc067b321"
      },
      "source": [
        "cars.offerType.value_counts()\n",
        "#Again, there's only 1 buyer ad, the rest is all seller ads"
      ],
      "execution_count": 25,
      "outputs": [
        {
          "output_type": "execute_result",
          "data": {
            "text/plain": [
              "Angebot    339689\n",
              "Gesuch          5\n",
              "Name: offerType, dtype: int64"
            ]
          },
          "metadata": {
            "tags": []
          },
          "execution_count": 25
        }
      ]
    },
    {
      "cell_type": "code",
      "metadata": {
        "id": "tvj3eAZASZKb"
      },
      "source": [
        "cars = cars[cars.offerType == \"Angebot\"].drop(columns = \"offerType\")"
      ],
      "execution_count": 26,
      "outputs": []
    },
    {
      "cell_type": "code",
      "metadata": {
        "colab": {
          "base_uri": "https://localhost:8080/",
          "height": 226
        },
        "id": "56zwVenbSZKc",
        "outputId": "4e892870-68a5-4a4f-efea-a54b016bb749"
      },
      "source": [
        "cars.head()"
      ],
      "execution_count": 27,
      "outputs": [
        {
          "output_type": "execute_result",
          "data": {
            "text/html": [
              "<div>\n",
              "<style scoped>\n",
              "    .dataframe tbody tr th:only-of-type {\n",
              "        vertical-align: middle;\n",
              "    }\n",
              "\n",
              "    .dataframe tbody tr th {\n",
              "        vertical-align: top;\n",
              "    }\n",
              "\n",
              "    .dataframe thead th {\n",
              "        text-align: right;\n",
              "    }\n",
              "</style>\n",
              "<table border=\"1\" class=\"dataframe\">\n",
              "  <thead>\n",
              "    <tr style=\"text-align: right;\">\n",
              "      <th></th>\n",
              "      <th>dateCrawled</th>\n",
              "      <th>name</th>\n",
              "      <th>price</th>\n",
              "      <th>abtest</th>\n",
              "      <th>vehicleType</th>\n",
              "      <th>yearOfRegistration</th>\n",
              "      <th>gearbox</th>\n",
              "      <th>powerPS</th>\n",
              "      <th>model</th>\n",
              "      <th>kilometer</th>\n",
              "      <th>fuelType</th>\n",
              "      <th>brand</th>\n",
              "      <th>notRepairedDamage</th>\n",
              "      <th>dateCreated</th>\n",
              "      <th>postalCode</th>\n",
              "      <th>lastSeen</th>\n",
              "      <th>powerMissing</th>\n",
              "      <th>monthOfReg1</th>\n",
              "      <th>monthOfReg2</th>\n",
              "    </tr>\n",
              "  </thead>\n",
              "  <tbody>\n",
              "    <tr>\n",
              "      <th>0</th>\n",
              "      <td>2016-03-24</td>\n",
              "      <td>Golf_3_1.6</td>\n",
              "      <td>480</td>\n",
              "      <td>test</td>\n",
              "      <td>NaN</td>\n",
              "      <td>1993</td>\n",
              "      <td>manuell</td>\n",
              "      <td>109.0</td>\n",
              "      <td>golf</td>\n",
              "      <td>150000</td>\n",
              "      <td>benzin</td>\n",
              "      <td>volkswagen</td>\n",
              "      <td>NaN</td>\n",
              "      <td>2016-03-24</td>\n",
              "      <td>70435</td>\n",
              "      <td>2016-04-07</td>\n",
              "      <td>1</td>\n",
              "      <td>1.000000</td>\n",
              "      <td>0.000000e+00</td>\n",
              "    </tr>\n",
              "    <tr>\n",
              "      <th>1</th>\n",
              "      <td>2016-03-24</td>\n",
              "      <td>A5_Sportback_2.7_Tdi</td>\n",
              "      <td>18300</td>\n",
              "      <td>test</td>\n",
              "      <td>coupe</td>\n",
              "      <td>2011</td>\n",
              "      <td>manuell</td>\n",
              "      <td>190.0</td>\n",
              "      <td>NaN</td>\n",
              "      <td>125000</td>\n",
              "      <td>diesel</td>\n",
              "      <td>audi</td>\n",
              "      <td>ja</td>\n",
              "      <td>2016-03-24</td>\n",
              "      <td>66954</td>\n",
              "      <td>2016-04-07</td>\n",
              "      <td>0</td>\n",
              "      <td>-0.623490</td>\n",
              "      <td>7.818315e-01</td>\n",
              "    </tr>\n",
              "    <tr>\n",
              "      <th>2</th>\n",
              "      <td>2016-03-14</td>\n",
              "      <td>Jeep_Grand_Cherokee_\"Overland\"</td>\n",
              "      <td>9800</td>\n",
              "      <td>test</td>\n",
              "      <td>suv</td>\n",
              "      <td>2004</td>\n",
              "      <td>automatik</td>\n",
              "      <td>163.0</td>\n",
              "      <td>grand</td>\n",
              "      <td>125000</td>\n",
              "      <td>diesel</td>\n",
              "      <td>jeep</td>\n",
              "      <td>NaN</td>\n",
              "      <td>2016-03-14</td>\n",
              "      <td>90480</td>\n",
              "      <td>2016-04-05</td>\n",
              "      <td>0</td>\n",
              "      <td>-0.900969</td>\n",
              "      <td>-4.338837e-01</td>\n",
              "    </tr>\n",
              "    <tr>\n",
              "      <th>3</th>\n",
              "      <td>2016-03-17</td>\n",
              "      <td>GOLF_4_1_4__3TÜRER</td>\n",
              "      <td>1500</td>\n",
              "      <td>test</td>\n",
              "      <td>kleinwagen</td>\n",
              "      <td>2001</td>\n",
              "      <td>manuell</td>\n",
              "      <td>75.0</td>\n",
              "      <td>golf</td>\n",
              "      <td>150000</td>\n",
              "      <td>benzin</td>\n",
              "      <td>volkswagen</td>\n",
              "      <td>nein</td>\n",
              "      <td>2016-03-17</td>\n",
              "      <td>91074</td>\n",
              "      <td>2016-03-17</td>\n",
              "      <td>0</td>\n",
              "      <td>-0.900969</td>\n",
              "      <td>4.338837e-01</td>\n",
              "    </tr>\n",
              "    <tr>\n",
              "      <th>4</th>\n",
              "      <td>2016-03-31</td>\n",
              "      <td>Skoda_Fabia_1.4_TDI_PD_Classic</td>\n",
              "      <td>3600</td>\n",
              "      <td>test</td>\n",
              "      <td>kleinwagen</td>\n",
              "      <td>2008</td>\n",
              "      <td>manuell</td>\n",
              "      <td>69.0</td>\n",
              "      <td>fabia</td>\n",
              "      <td>90000</td>\n",
              "      <td>diesel</td>\n",
              "      <td>skoda</td>\n",
              "      <td>nein</td>\n",
              "      <td>2016-03-31</td>\n",
              "      <td>60437</td>\n",
              "      <td>2016-04-06</td>\n",
              "      <td>0</td>\n",
              "      <td>-1.000000</td>\n",
              "      <td>1.224647e-16</td>\n",
              "    </tr>\n",
              "  </tbody>\n",
              "</table>\n",
              "</div>"
            ],
            "text/plain": [
              "  dateCrawled                            name  ...  monthOfReg1   monthOfReg2\n",
              "0  2016-03-24                      Golf_3_1.6  ...     1.000000  0.000000e+00\n",
              "1  2016-03-24            A5_Sportback_2.7_Tdi  ...    -0.623490  7.818315e-01\n",
              "2  2016-03-14  Jeep_Grand_Cherokee_\"Overland\"  ...    -0.900969 -4.338837e-01\n",
              "3  2016-03-17              GOLF_4_1_4__3TÜRER  ...    -0.900969  4.338837e-01\n",
              "4  2016-03-31  Skoda_Fabia_1.4_TDI_PD_Classic  ...    -1.000000  1.224647e-16\n",
              "\n",
              "[5 rows x 19 columns]"
            ]
          },
          "metadata": {
            "tags": []
          },
          "execution_count": 27
        }
      ]
    },
    {
      "cell_type": "markdown",
      "metadata": {
        "id": "jBeCcmUdSZKc"
      },
      "source": [
        "# Handling missing values"
      ]
    },
    {
      "cell_type": "code",
      "metadata": {
        "colab": {
          "base_uri": "https://localhost:8080/"
        },
        "id": "yfSwhnFXSZKd",
        "outputId": "ce08fd96-acb7-465c-cdb4-1e1da1bef5d0"
      },
      "source": [
        "missing_value_summary(cars)"
      ],
      "execution_count": 28,
      "outputs": [
        {
          "output_type": "stream",
          "text": [
            "Missing values in \n",
            "\n",
            "vehicleType : 19566\n",
            "gearbox : 15011\n",
            "model : 15105\n",
            "fuelType : 23597\n",
            "notRepairedDamage : 59282\n",
            "\n",
            "ratio of missing features in the whole table:  0.020969765230885562\n",
            "Number of rows:  339689\n"
          ],
          "name": "stdout"
        }
      ]
    },
    {
      "cell_type": "code",
      "metadata": {
        "colab": {
          "base_uri": "https://localhost:8080/"
        },
        "id": "MKfo1Y_RSZKd",
        "outputId": "f0a901e6-4cef-416c-ea97-dd1394575a4f"
      },
      "source": [
        "cars[\"notRepairedDamage\"].map(lambda x: 1 if pd.isnull(x) else 0)"
      ],
      "execution_count": 29,
      "outputs": [
        {
          "output_type": "execute_result",
          "data": {
            "text/plain": [
              "0         1\n",
              "1         0\n",
              "2         1\n",
              "3         0\n",
              "4         0\n",
              "         ..\n",
              "371523    1\n",
              "371524    0\n",
              "371525    0\n",
              "371526    1\n",
              "371527    0\n",
              "Name: notRepairedDamage, Length: 339689, dtype: int64"
            ]
          },
          "metadata": {
            "tags": []
          },
          "execution_count": 29
        }
      ]
    },
    {
      "cell_type": "code",
      "metadata": {
        "id": "UruVB7QDSZKe"
      },
      "source": [
        "#Suppose that missing notRepairedDamage means that the car wasn't damaged at all.\n",
        "cars[\"neverDamaged\"] = cars.notRepairedDamage.map(lambda x: 1 if pd.isnull(x) else 0)\n",
        "cars[\"notRepairedDamage\"] = cars.notRepairedDamage.fillna(\"nein\")"
      ],
      "execution_count": 30,
      "outputs": []
    },
    {
      "cell_type": "code",
      "metadata": {
        "colab": {
          "base_uri": "https://localhost:8080/"
        },
        "id": "ywm-Zyq7SZKf",
        "outputId": "c3d5267b-cfaa-41f4-bd50-37669a140769"
      },
      "source": [
        "missing_value_summary(cars)"
      ],
      "execution_count": 31,
      "outputs": [
        {
          "output_type": "stream",
          "text": [
            "Missing values in \n",
            "\n",
            "vehicleType : 19566\n",
            "gearbox : 15011\n",
            "model : 15105\n",
            "fuelType : 23597\n",
            "\n",
            "ratio of missing features in the whole table:  0.010903800177992683\n",
            "Number of rows:  339689\n"
          ],
          "name": "stdout"
        }
      ]
    },
    {
      "cell_type": "code",
      "metadata": {
        "id": "ylZfbO1ySZKh"
      },
      "source": [
        "# Let's see if we can get some additional information if we have missing key info (model)\n",
        "\n",
        "unique_models = cars.model.unique()\n",
        "unique_models = np.delete(unique_models,1)\n",
        "\n",
        "missing_model = cars[cars[\"model\"].isna()] #cars with missing model\n",
        "\n",
        "names = missing_model.name.str.lower().str.split(\"_\")\n",
        "\n",
        "new_model_name = pd.Series([ set(x).intersection(unique_models).pop() if not set(x).isdisjoint(unique_models) else np.nan for x in names],\n",
        "                             index = missing_model.index)\n",
        "#with this step we've gained 8600 more model names "
      ],
      "execution_count": 32,
      "outputs": []
    },
    {
      "cell_type": "code",
      "metadata": {
        "id": "6sbTf3zfSZKi"
      },
      "source": [
        "cars.loc[missing_model.index, \"model\"] = new_model_name"
      ],
      "execution_count": 33,
      "outputs": []
    },
    {
      "cell_type": "code",
      "metadata": {
        "colab": {
          "base_uri": "https://localhost:8080/"
        },
        "id": "vD2BnAKaSZKj",
        "outputId": "38a2d5d8-f64a-454e-9695-45a222cd0a53"
      },
      "source": [
        "missing_value_summary(cars)"
      ],
      "execution_count": 34,
      "outputs": [
        {
          "output_type": "stream",
          "text": [
            "Missing values in \n",
            "\n",
            "vehicleType : 19566\n",
            "gearbox : 15011\n",
            "model : 7846\n",
            "fuelType : 23597\n",
            "\n",
            "ratio of missing features in the whole table:  0.009813072999036826\n",
            "Number of rows:  339689\n"
          ],
          "name": "stdout"
        }
      ]
    },
    {
      "cell_type": "code",
      "metadata": {
        "id": "BKh_X3LKSZKj"
      },
      "source": [
        "cars = cars.drop(index = cars[cars.model.isna()].index)"
      ],
      "execution_count": 35,
      "outputs": []
    },
    {
      "cell_type": "code",
      "metadata": {
        "colab": {
          "base_uri": "https://localhost:8080/"
        },
        "id": "m5c6fgWBSZKk",
        "outputId": "032b3210-cb86-4e43-cf88-fbd028d78bfe"
      },
      "source": [
        "missing_value_summary(cars)"
      ],
      "execution_count": 36,
      "outputs": [
        {
          "output_type": "stream",
          "text": [
            "Missing values in \n",
            "\n",
            "vehicleType : 17623\n",
            "gearbox : 13507\n",
            "fuelType : 21138\n",
            "\n",
            "ratio of missing features in the whole table:  0.007937925387024739\n",
            "Number of rows:  331843\n"
          ],
          "name": "stdout"
        }
      ]
    },
    {
      "cell_type": "code",
      "metadata": {
        "id": "v6HSv4_8SZKk"
      },
      "source": [
        "unique_brands = cars.brand.unique()\n",
        "brand_model_dict = {}\n",
        "for b in unique_brands:\n",
        "    brand_model_dict[b] = cars[ cars.brand == b].model.unique()"
      ],
      "execution_count": 37,
      "outputs": []
    },
    {
      "cell_type": "code",
      "metadata": {
        "id": "7ywygjm4SZKk"
      },
      "source": [
        "missing_vtype = cars[cars.vehicleType.isna()]\n",
        "vtype_by_model = cars[cars.vehicleType.notna()].groupby([\"model\",\"vehicleType\"])[[\"vehicleType\"]].count()\n",
        "vtype_by_model_dict = {}\n",
        "\n",
        "for model in unique_models:\n",
        "    vtype_by_model_dict[model] = vtype_by_model.loc[model].idxmax()[0]\n",
        "cars.loc[missing_vtype.index, \"vehicleType\"] = missing_vtype.model.map(vtype_by_model_dict)\n",
        "#What I did here is I chose all the rows without missing vtype. Then looked at every model's most frequent vType, and paired it with the model in a key-value fashion: (model: most frequent vehicleType with the given model)\n",
        "#For every missing vType, I imputed the car model's associated vType."
      ],
      "execution_count": 38,
      "outputs": []
    },
    {
      "cell_type": "code",
      "metadata": {
        "id": "3IR2tpwKSZKl"
      },
      "source": [
        "model_vtype_dict = {}\n",
        "no_missing_vtype_cars = cars[cars.vehicleType.notna()]\n",
        "for m in unique_models:\n",
        "    model_vtype_dict[m] = no_missing_vtype_cars[no_missing_vtype_cars.model == m].vehicleType.value_counts().index[0]\n"
      ],
      "execution_count": 39,
      "outputs": []
    },
    {
      "cell_type": "code",
      "metadata": {
        "colab": {
          "base_uri": "https://localhost:8080/"
        },
        "id": "xUgSreirSZKl",
        "outputId": "9cc6d6d3-7f96-4cc0-ab3f-0f53976610c1"
      },
      "source": [
        "missing_value_summary(cars)"
      ],
      "execution_count": 40,
      "outputs": [
        {
          "output_type": "stream",
          "text": [
            "Missing values in \n",
            "\n",
            "gearbox : 13507\n",
            "fuelType : 21138\n",
            "\n",
            "ratio of missing features in the whole table:  0.005247481337702574\n",
            "Number of rows:  331843\n"
          ],
          "name": "stdout"
        }
      ]
    },
    {
      "cell_type": "code",
      "metadata": {
        "id": "Uv4MpH_RSZKm"
      },
      "source": [
        "missing_fuel = cars[cars.fuelType.isna()]\n",
        "fuel_by_model = cars[cars.fuelType.notna()].groupby([\"model\",\"fuelType\"])[[\"fuelType\"]].count()\n",
        "fuel_by_model_dict = {}\n",
        "\n",
        "for model in unique_models:\n",
        "    fuel_by_model_dict [model] = fuel_by_model.loc[model].idxmax()[0]\n",
        "cars.loc[missing_fuel.index, \"fuelType\"] = missing_fuel.model.map(fuel_by_model_dict)"
      ],
      "execution_count": 41,
      "outputs": []
    },
    {
      "cell_type": "code",
      "metadata": {
        "colab": {
          "base_uri": "https://localhost:8080/"
        },
        "id": "qhIxOMUQSZKn",
        "outputId": "f9a96176-5580-467b-b059-b53088b05988"
      },
      "source": [
        "missing_value_summary(cars)"
      ],
      "execution_count": 42,
      "outputs": [
        {
          "output_type": "stream",
          "text": [
            "Missing values in \n",
            "\n",
            "gearbox : 13507\n",
            "\n",
            "ratio of missing features in the whole table:  0.0020392994303640465\n",
            "Number of rows:  331843\n"
          ],
          "name": "stdout"
        }
      ]
    },
    {
      "cell_type": "code",
      "metadata": {
        "id": "3KOCM2UXSZKn"
      },
      "source": [
        "missing_gearbox = cars[cars.gearbox.isna()]\n",
        "gearbox_by_model = cars[cars.gearbox.notna()].groupby([\"model\",\"gearbox\"])[[\"gearbox\"]].count()\n",
        "gearbox_by_model_dict = {}\n",
        "\n",
        "for model in unique_models:\n",
        "    gearbox_by_model_dict[model] = gearbox_by_model.loc[model].idxmax()[0]\n",
        "cars.loc[missing_gearbox.index, \"gearbox\"] = missing_gearbox.model.map(vtype_by_model_dict)"
      ],
      "execution_count": 43,
      "outputs": []
    },
    {
      "cell_type": "code",
      "metadata": {
        "colab": {
          "base_uri": "https://localhost:8080/"
        },
        "id": "6xvVzvM5SZKo",
        "outputId": "89d7af9e-2062-4842-b5af-0ce79c58bfb8"
      },
      "source": [
        "missing_value_summary(cars)"
      ],
      "execution_count": 44,
      "outputs": [
        {
          "output_type": "stream",
          "text": [
            "Missing values in \n",
            "\n",
            "\n",
            "ratio of missing features in the whole table:  0.0\n",
            "Number of rows:  331843\n"
          ],
          "name": "stdout"
        }
      ]
    },
    {
      "cell_type": "code",
      "metadata": {
        "colab": {
          "base_uri": "https://localhost:8080/",
          "height": 226
        },
        "id": "y-MJ_l7ySZKo",
        "outputId": "86b2d34e-9edd-4e6e-c650-61d66c706f5c"
      },
      "source": [
        "cars[\"minDaysOnline\"] = (cars.lastSeen - cars.dateCreated).dt.days\n",
        "cars = cars.drop(columns = [\"dateCreated\",\"dateCrawled\",\"lastSeen\", \"name\"])\n",
        "cars.head()"
      ],
      "execution_count": 45,
      "outputs": [
        {
          "output_type": "execute_result",
          "data": {
            "text/html": [
              "<div>\n",
              "<style scoped>\n",
              "    .dataframe tbody tr th:only-of-type {\n",
              "        vertical-align: middle;\n",
              "    }\n",
              "\n",
              "    .dataframe tbody tr th {\n",
              "        vertical-align: top;\n",
              "    }\n",
              "\n",
              "    .dataframe thead th {\n",
              "        text-align: right;\n",
              "    }\n",
              "</style>\n",
              "<table border=\"1\" class=\"dataframe\">\n",
              "  <thead>\n",
              "    <tr style=\"text-align: right;\">\n",
              "      <th></th>\n",
              "      <th>price</th>\n",
              "      <th>abtest</th>\n",
              "      <th>vehicleType</th>\n",
              "      <th>yearOfRegistration</th>\n",
              "      <th>gearbox</th>\n",
              "      <th>powerPS</th>\n",
              "      <th>model</th>\n",
              "      <th>kilometer</th>\n",
              "      <th>fuelType</th>\n",
              "      <th>brand</th>\n",
              "      <th>notRepairedDamage</th>\n",
              "      <th>postalCode</th>\n",
              "      <th>powerMissing</th>\n",
              "      <th>monthOfReg1</th>\n",
              "      <th>monthOfReg2</th>\n",
              "      <th>neverDamaged</th>\n",
              "      <th>minDaysOnline</th>\n",
              "    </tr>\n",
              "  </thead>\n",
              "  <tbody>\n",
              "    <tr>\n",
              "      <th>0</th>\n",
              "      <td>480</td>\n",
              "      <td>test</td>\n",
              "      <td>limousine</td>\n",
              "      <td>1993</td>\n",
              "      <td>manuell</td>\n",
              "      <td>109.0</td>\n",
              "      <td>golf</td>\n",
              "      <td>150000</td>\n",
              "      <td>benzin</td>\n",
              "      <td>volkswagen</td>\n",
              "      <td>nein</td>\n",
              "      <td>70435</td>\n",
              "      <td>1</td>\n",
              "      <td>1.000000</td>\n",
              "      <td>0.000000e+00</td>\n",
              "      <td>1</td>\n",
              "      <td>14</td>\n",
              "    </tr>\n",
              "    <tr>\n",
              "      <th>1</th>\n",
              "      <td>18300</td>\n",
              "      <td>test</td>\n",
              "      <td>coupe</td>\n",
              "      <td>2011</td>\n",
              "      <td>manuell</td>\n",
              "      <td>190.0</td>\n",
              "      <td>a5</td>\n",
              "      <td>125000</td>\n",
              "      <td>diesel</td>\n",
              "      <td>audi</td>\n",
              "      <td>ja</td>\n",
              "      <td>66954</td>\n",
              "      <td>0</td>\n",
              "      <td>-0.623490</td>\n",
              "      <td>7.818315e-01</td>\n",
              "      <td>0</td>\n",
              "      <td>14</td>\n",
              "    </tr>\n",
              "    <tr>\n",
              "      <th>2</th>\n",
              "      <td>9800</td>\n",
              "      <td>test</td>\n",
              "      <td>suv</td>\n",
              "      <td>2004</td>\n",
              "      <td>automatik</td>\n",
              "      <td>163.0</td>\n",
              "      <td>grand</td>\n",
              "      <td>125000</td>\n",
              "      <td>diesel</td>\n",
              "      <td>jeep</td>\n",
              "      <td>nein</td>\n",
              "      <td>90480</td>\n",
              "      <td>0</td>\n",
              "      <td>-0.900969</td>\n",
              "      <td>-4.338837e-01</td>\n",
              "      <td>1</td>\n",
              "      <td>22</td>\n",
              "    </tr>\n",
              "    <tr>\n",
              "      <th>3</th>\n",
              "      <td>1500</td>\n",
              "      <td>test</td>\n",
              "      <td>kleinwagen</td>\n",
              "      <td>2001</td>\n",
              "      <td>manuell</td>\n",
              "      <td>75.0</td>\n",
              "      <td>golf</td>\n",
              "      <td>150000</td>\n",
              "      <td>benzin</td>\n",
              "      <td>volkswagen</td>\n",
              "      <td>nein</td>\n",
              "      <td>91074</td>\n",
              "      <td>0</td>\n",
              "      <td>-0.900969</td>\n",
              "      <td>4.338837e-01</td>\n",
              "      <td>0</td>\n",
              "      <td>0</td>\n",
              "    </tr>\n",
              "    <tr>\n",
              "      <th>4</th>\n",
              "      <td>3600</td>\n",
              "      <td>test</td>\n",
              "      <td>kleinwagen</td>\n",
              "      <td>2008</td>\n",
              "      <td>manuell</td>\n",
              "      <td>69.0</td>\n",
              "      <td>fabia</td>\n",
              "      <td>90000</td>\n",
              "      <td>diesel</td>\n",
              "      <td>skoda</td>\n",
              "      <td>nein</td>\n",
              "      <td>60437</td>\n",
              "      <td>0</td>\n",
              "      <td>-1.000000</td>\n",
              "      <td>1.224647e-16</td>\n",
              "      <td>0</td>\n",
              "      <td>6</td>\n",
              "    </tr>\n",
              "  </tbody>\n",
              "</table>\n",
              "</div>"
            ],
            "text/plain": [
              "   price abtest vehicleType  ...   monthOfReg2 neverDamaged  minDaysOnline\n",
              "0    480   test   limousine  ...  0.000000e+00            1             14\n",
              "1  18300   test       coupe  ...  7.818315e-01            0             14\n",
              "2   9800   test         suv  ... -4.338837e-01            1             22\n",
              "3   1500   test  kleinwagen  ...  4.338837e-01            0              0\n",
              "4   3600   test  kleinwagen  ...  1.224647e-16            0              6\n",
              "\n",
              "[5 rows x 17 columns]"
            ]
          },
          "metadata": {
            "tags": []
          },
          "execution_count": 45
        }
      ]
    },
    {
      "cell_type": "code",
      "metadata": {
        "id": "opAM-35pSZKo"
      },
      "source": [
        "#cars = cars[cars[\"minDaysOnline\"]  > 5]\n",
        "#If we want to have a good prediction on the minimum time it takes for a car to be sold, there has to be a lower bound. Let it be 5 days."
      ],
      "execution_count": 46,
      "outputs": []
    },
    {
      "cell_type": "code",
      "metadata": {
        "colab": {
          "base_uri": "https://localhost:8080/",
          "height": 226
        },
        "id": "HNZ2fDfkSZKp",
        "outputId": "4077fff2-91e3-405a-c49a-c2621c0b2e77"
      },
      "source": [
        "cars.head()"
      ],
      "execution_count": 47,
      "outputs": [
        {
          "output_type": "execute_result",
          "data": {
            "text/html": [
              "<div>\n",
              "<style scoped>\n",
              "    .dataframe tbody tr th:only-of-type {\n",
              "        vertical-align: middle;\n",
              "    }\n",
              "\n",
              "    .dataframe tbody tr th {\n",
              "        vertical-align: top;\n",
              "    }\n",
              "\n",
              "    .dataframe thead th {\n",
              "        text-align: right;\n",
              "    }\n",
              "</style>\n",
              "<table border=\"1\" class=\"dataframe\">\n",
              "  <thead>\n",
              "    <tr style=\"text-align: right;\">\n",
              "      <th></th>\n",
              "      <th>price</th>\n",
              "      <th>abtest</th>\n",
              "      <th>vehicleType</th>\n",
              "      <th>yearOfRegistration</th>\n",
              "      <th>gearbox</th>\n",
              "      <th>powerPS</th>\n",
              "      <th>model</th>\n",
              "      <th>kilometer</th>\n",
              "      <th>fuelType</th>\n",
              "      <th>brand</th>\n",
              "      <th>notRepairedDamage</th>\n",
              "      <th>postalCode</th>\n",
              "      <th>powerMissing</th>\n",
              "      <th>monthOfReg1</th>\n",
              "      <th>monthOfReg2</th>\n",
              "      <th>neverDamaged</th>\n",
              "      <th>minDaysOnline</th>\n",
              "    </tr>\n",
              "  </thead>\n",
              "  <tbody>\n",
              "    <tr>\n",
              "      <th>0</th>\n",
              "      <td>480</td>\n",
              "      <td>test</td>\n",
              "      <td>limousine</td>\n",
              "      <td>1993</td>\n",
              "      <td>manuell</td>\n",
              "      <td>109.0</td>\n",
              "      <td>golf</td>\n",
              "      <td>150000</td>\n",
              "      <td>benzin</td>\n",
              "      <td>volkswagen</td>\n",
              "      <td>nein</td>\n",
              "      <td>70435</td>\n",
              "      <td>1</td>\n",
              "      <td>1.000000</td>\n",
              "      <td>0.000000e+00</td>\n",
              "      <td>1</td>\n",
              "      <td>14</td>\n",
              "    </tr>\n",
              "    <tr>\n",
              "      <th>1</th>\n",
              "      <td>18300</td>\n",
              "      <td>test</td>\n",
              "      <td>coupe</td>\n",
              "      <td>2011</td>\n",
              "      <td>manuell</td>\n",
              "      <td>190.0</td>\n",
              "      <td>a5</td>\n",
              "      <td>125000</td>\n",
              "      <td>diesel</td>\n",
              "      <td>audi</td>\n",
              "      <td>ja</td>\n",
              "      <td>66954</td>\n",
              "      <td>0</td>\n",
              "      <td>-0.623490</td>\n",
              "      <td>7.818315e-01</td>\n",
              "      <td>0</td>\n",
              "      <td>14</td>\n",
              "    </tr>\n",
              "    <tr>\n",
              "      <th>2</th>\n",
              "      <td>9800</td>\n",
              "      <td>test</td>\n",
              "      <td>suv</td>\n",
              "      <td>2004</td>\n",
              "      <td>automatik</td>\n",
              "      <td>163.0</td>\n",
              "      <td>grand</td>\n",
              "      <td>125000</td>\n",
              "      <td>diesel</td>\n",
              "      <td>jeep</td>\n",
              "      <td>nein</td>\n",
              "      <td>90480</td>\n",
              "      <td>0</td>\n",
              "      <td>-0.900969</td>\n",
              "      <td>-4.338837e-01</td>\n",
              "      <td>1</td>\n",
              "      <td>22</td>\n",
              "    </tr>\n",
              "    <tr>\n",
              "      <th>3</th>\n",
              "      <td>1500</td>\n",
              "      <td>test</td>\n",
              "      <td>kleinwagen</td>\n",
              "      <td>2001</td>\n",
              "      <td>manuell</td>\n",
              "      <td>75.0</td>\n",
              "      <td>golf</td>\n",
              "      <td>150000</td>\n",
              "      <td>benzin</td>\n",
              "      <td>volkswagen</td>\n",
              "      <td>nein</td>\n",
              "      <td>91074</td>\n",
              "      <td>0</td>\n",
              "      <td>-0.900969</td>\n",
              "      <td>4.338837e-01</td>\n",
              "      <td>0</td>\n",
              "      <td>0</td>\n",
              "    </tr>\n",
              "    <tr>\n",
              "      <th>4</th>\n",
              "      <td>3600</td>\n",
              "      <td>test</td>\n",
              "      <td>kleinwagen</td>\n",
              "      <td>2008</td>\n",
              "      <td>manuell</td>\n",
              "      <td>69.0</td>\n",
              "      <td>fabia</td>\n",
              "      <td>90000</td>\n",
              "      <td>diesel</td>\n",
              "      <td>skoda</td>\n",
              "      <td>nein</td>\n",
              "      <td>60437</td>\n",
              "      <td>0</td>\n",
              "      <td>-1.000000</td>\n",
              "      <td>1.224647e-16</td>\n",
              "      <td>0</td>\n",
              "      <td>6</td>\n",
              "    </tr>\n",
              "  </tbody>\n",
              "</table>\n",
              "</div>"
            ],
            "text/plain": [
              "   price abtest vehicleType  ...   monthOfReg2 neverDamaged  minDaysOnline\n",
              "0    480   test   limousine  ...  0.000000e+00            1             14\n",
              "1  18300   test       coupe  ...  7.818315e-01            0             14\n",
              "2   9800   test         suv  ... -4.338837e-01            1             22\n",
              "3   1500   test  kleinwagen  ...  4.338837e-01            0              0\n",
              "4   3600   test  kleinwagen  ...  1.224647e-16            0              6\n",
              "\n",
              "[5 rows x 17 columns]"
            ]
          },
          "metadata": {
            "tags": []
          },
          "execution_count": 47
        }
      ]
    },
    {
      "cell_type": "code",
      "metadata": {
        "id": "FZB9EUGFSZKr"
      },
      "source": [
        "categorical = [\"abtest\", \"vehicleType\", \"gearbox\", \"model\",\"fuelType\",\"brand\",\"notRepairedDamage\"]\n",
        "y = cars.price\n",
        "x_categorical = cars[categorical]\n",
        "x_numerical = cars.drop(columns = categorical) \n",
        "x_numerical = x_numerical.drop(columns = \"price\")"
      ],
      "execution_count": 48,
      "outputs": []
    },
    {
      "cell_type": "code",
      "metadata": {
        "id": "jzSONd6DSZKs"
      },
      "source": [
        "from sklearn.preprocessing import MinMaxScaler\n",
        "x_dummies = pd.get_dummies(x_categorical)\n",
        "mmscaler = MinMaxScaler()\n",
        "x_numerical = pd.DataFrame(mmscaler.fit_transform(x_numerical), columns = x_numerical.columns, index = x_numerical.index)"
      ],
      "execution_count": 49,
      "outputs": []
    },
    {
      "cell_type": "code",
      "metadata": {
        "id": "cniNts2DSZKt"
      },
      "source": [
        "x = x_numerical.join(x_dummies)"
      ],
      "execution_count": 50,
      "outputs": []
    },
    {
      "cell_type": "code",
      "metadata": {
        "id": "CmRcUljcSZKv"
      },
      "source": [
        "from sklearn.model_selection import train_test_split\n",
        "x_train, x_test, y_train, y_test = train_test_split(x, y, test_size=0.2)"
      ],
      "execution_count": 51,
      "outputs": []
    },
    {
      "cell_type": "code",
      "metadata": {
        "colab": {
          "base_uri": "https://localhost:8080/",
          "height": 444
        },
        "id": "ZlSfAfXwUR-Y",
        "outputId": "0b494308-cd09-441d-bea5-79efae5bc3f4"
      },
      "source": [
        "x_train"
      ],
      "execution_count": 55,
      "outputs": [
        {
          "output_type": "execute_result",
          "data": {
            "text/html": [
              "<div>\n",
              "<style scoped>\n",
              "    .dataframe tbody tr th:only-of-type {\n",
              "        vertical-align: middle;\n",
              "    }\n",
              "\n",
              "    .dataframe tbody tr th {\n",
              "        vertical-align: top;\n",
              "    }\n",
              "\n",
              "    .dataframe thead th {\n",
              "        text-align: right;\n",
              "    }\n",
              "</style>\n",
              "<table border=\"1\" class=\"dataframe\">\n",
              "  <thead>\n",
              "    <tr style=\"text-align: right;\">\n",
              "      <th></th>\n",
              "      <th>yearOfRegistration</th>\n",
              "      <th>powerPS</th>\n",
              "      <th>kilometer</th>\n",
              "      <th>postalCode</th>\n",
              "      <th>powerMissing</th>\n",
              "      <th>monthOfReg1</th>\n",
              "      <th>monthOfReg2</th>\n",
              "      <th>neverDamaged</th>\n",
              "      <th>minDaysOnline</th>\n",
              "      <th>abtest_control</th>\n",
              "      <th>abtest_test</th>\n",
              "      <th>vehicleType_andere</th>\n",
              "      <th>vehicleType_bus</th>\n",
              "      <th>vehicleType_cabrio</th>\n",
              "      <th>vehicleType_coupe</th>\n",
              "      <th>vehicleType_kleinwagen</th>\n",
              "      <th>vehicleType_kombi</th>\n",
              "      <th>vehicleType_limousine</th>\n",
              "      <th>vehicleType_suv</th>\n",
              "      <th>gearbox_automatik</th>\n",
              "      <th>gearbox_bus</th>\n",
              "      <th>gearbox_cabrio</th>\n",
              "      <th>gearbox_coupe</th>\n",
              "      <th>gearbox_kleinwagen</th>\n",
              "      <th>gearbox_kombi</th>\n",
              "      <th>gearbox_limousine</th>\n",
              "      <th>gearbox_manuell</th>\n",
              "      <th>gearbox_suv</th>\n",
              "      <th>model_100</th>\n",
              "      <th>model_145</th>\n",
              "      <th>model_147</th>\n",
              "      <th>model_156</th>\n",
              "      <th>model_159</th>\n",
              "      <th>model_1_reihe</th>\n",
              "      <th>model_1er</th>\n",
              "      <th>model_200</th>\n",
              "      <th>model_2_reihe</th>\n",
              "      <th>model_300c</th>\n",
              "      <th>model_3_reihe</th>\n",
              "      <th>model_3er</th>\n",
              "      <th>...</th>\n",
              "      <th>brand_bmw</th>\n",
              "      <th>brand_chevrolet</th>\n",
              "      <th>brand_chrysler</th>\n",
              "      <th>brand_citroen</th>\n",
              "      <th>brand_dacia</th>\n",
              "      <th>brand_daewoo</th>\n",
              "      <th>brand_daihatsu</th>\n",
              "      <th>brand_fiat</th>\n",
              "      <th>brand_ford</th>\n",
              "      <th>brand_honda</th>\n",
              "      <th>brand_hyundai</th>\n",
              "      <th>brand_jaguar</th>\n",
              "      <th>brand_jeep</th>\n",
              "      <th>brand_kia</th>\n",
              "      <th>brand_lada</th>\n",
              "      <th>brand_lancia</th>\n",
              "      <th>brand_land_rover</th>\n",
              "      <th>brand_mazda</th>\n",
              "      <th>brand_mercedes_benz</th>\n",
              "      <th>brand_mini</th>\n",
              "      <th>brand_mitsubishi</th>\n",
              "      <th>brand_nissan</th>\n",
              "      <th>brand_opel</th>\n",
              "      <th>brand_peugeot</th>\n",
              "      <th>brand_porsche</th>\n",
              "      <th>brand_renault</th>\n",
              "      <th>brand_rover</th>\n",
              "      <th>brand_saab</th>\n",
              "      <th>brand_seat</th>\n",
              "      <th>brand_skoda</th>\n",
              "      <th>brand_smart</th>\n",
              "      <th>brand_sonstige_autos</th>\n",
              "      <th>brand_subaru</th>\n",
              "      <th>brand_suzuki</th>\n",
              "      <th>brand_toyota</th>\n",
              "      <th>brand_trabant</th>\n",
              "      <th>brand_volkswagen</th>\n",
              "      <th>brand_volvo</th>\n",
              "      <th>notRepairedDamage_ja</th>\n",
              "      <th>notRepairedDamage_nein</th>\n",
              "    </tr>\n",
              "  </thead>\n",
              "  <tbody>\n",
              "    <tr>\n",
              "      <th>44473</th>\n",
              "      <td>0.342857</td>\n",
              "      <td>0.135271</td>\n",
              "      <td>1.000000</td>\n",
              "      <td>0.324549</td>\n",
              "      <td>0.0</td>\n",
              "      <td>0.611260</td>\n",
              "      <td>0.000000</td>\n",
              "      <td>0.0</td>\n",
              "      <td>0.017128</td>\n",
              "      <td>1</td>\n",
              "      <td>0</td>\n",
              "      <td>0</td>\n",
              "      <td>0</td>\n",
              "      <td>0</td>\n",
              "      <td>0</td>\n",
              "      <td>0</td>\n",
              "      <td>0</td>\n",
              "      <td>1</td>\n",
              "      <td>0</td>\n",
              "      <td>0</td>\n",
              "      <td>0</td>\n",
              "      <td>0</td>\n",
              "      <td>0</td>\n",
              "      <td>0</td>\n",
              "      <td>0</td>\n",
              "      <td>0</td>\n",
              "      <td>1</td>\n",
              "      <td>0</td>\n",
              "      <td>0</td>\n",
              "      <td>0</td>\n",
              "      <td>0</td>\n",
              "      <td>0</td>\n",
              "      <td>0</td>\n",
              "      <td>0</td>\n",
              "      <td>0</td>\n",
              "      <td>0</td>\n",
              "      <td>0</td>\n",
              "      <td>0</td>\n",
              "      <td>0</td>\n",
              "      <td>0</td>\n",
              "      <td>...</td>\n",
              "      <td>0</td>\n",
              "      <td>0</td>\n",
              "      <td>0</td>\n",
              "      <td>0</td>\n",
              "      <td>0</td>\n",
              "      <td>0</td>\n",
              "      <td>0</td>\n",
              "      <td>0</td>\n",
              "      <td>0</td>\n",
              "      <td>0</td>\n",
              "      <td>0</td>\n",
              "      <td>0</td>\n",
              "      <td>0</td>\n",
              "      <td>0</td>\n",
              "      <td>0</td>\n",
              "      <td>0</td>\n",
              "      <td>0</td>\n",
              "      <td>0</td>\n",
              "      <td>1</td>\n",
              "      <td>0</td>\n",
              "      <td>0</td>\n",
              "      <td>0</td>\n",
              "      <td>0</td>\n",
              "      <td>0</td>\n",
              "      <td>0</td>\n",
              "      <td>0</td>\n",
              "      <td>0</td>\n",
              "      <td>0</td>\n",
              "      <td>0</td>\n",
              "      <td>0</td>\n",
              "      <td>0</td>\n",
              "      <td>0</td>\n",
              "      <td>0</td>\n",
              "      <td>0</td>\n",
              "      <td>0</td>\n",
              "      <td>0</td>\n",
              "      <td>0</td>\n",
              "      <td>0</td>\n",
              "      <td>0</td>\n",
              "      <td>1</td>\n",
              "    </tr>\n",
              "    <tr>\n",
              "      <th>196272</th>\n",
              "      <td>0.742857</td>\n",
              "      <td>0.074148</td>\n",
              "      <td>0.827586</td>\n",
              "      <td>0.914324</td>\n",
              "      <td>0.0</td>\n",
              "      <td>0.049516</td>\n",
              "      <td>0.722521</td>\n",
              "      <td>0.0</td>\n",
              "      <td>0.027668</td>\n",
              "      <td>1</td>\n",
              "      <td>0</td>\n",
              "      <td>0</td>\n",
              "      <td>0</td>\n",
              "      <td>0</td>\n",
              "      <td>0</td>\n",
              "      <td>1</td>\n",
              "      <td>0</td>\n",
              "      <td>0</td>\n",
              "      <td>0</td>\n",
              "      <td>0</td>\n",
              "      <td>0</td>\n",
              "      <td>0</td>\n",
              "      <td>0</td>\n",
              "      <td>0</td>\n",
              "      <td>0</td>\n",
              "      <td>0</td>\n",
              "      <td>1</td>\n",
              "      <td>0</td>\n",
              "      <td>0</td>\n",
              "      <td>0</td>\n",
              "      <td>0</td>\n",
              "      <td>0</td>\n",
              "      <td>0</td>\n",
              "      <td>0</td>\n",
              "      <td>0</td>\n",
              "      <td>0</td>\n",
              "      <td>0</td>\n",
              "      <td>0</td>\n",
              "      <td>0</td>\n",
              "      <td>0</td>\n",
              "      <td>...</td>\n",
              "      <td>0</td>\n",
              "      <td>0</td>\n",
              "      <td>0</td>\n",
              "      <td>0</td>\n",
              "      <td>0</td>\n",
              "      <td>0</td>\n",
              "      <td>0</td>\n",
              "      <td>0</td>\n",
              "      <td>0</td>\n",
              "      <td>0</td>\n",
              "      <td>0</td>\n",
              "      <td>0</td>\n",
              "      <td>0</td>\n",
              "      <td>0</td>\n",
              "      <td>0</td>\n",
              "      <td>0</td>\n",
              "      <td>0</td>\n",
              "      <td>0</td>\n",
              "      <td>0</td>\n",
              "      <td>0</td>\n",
              "      <td>0</td>\n",
              "      <td>0</td>\n",
              "      <td>0</td>\n",
              "      <td>0</td>\n",
              "      <td>0</td>\n",
              "      <td>0</td>\n",
              "      <td>0</td>\n",
              "      <td>0</td>\n",
              "      <td>0</td>\n",
              "      <td>1</td>\n",
              "      <td>0</td>\n",
              "      <td>0</td>\n",
              "      <td>0</td>\n",
              "      <td>0</td>\n",
              "      <td>0</td>\n",
              "      <td>0</td>\n",
              "      <td>0</td>\n",
              "      <td>0</td>\n",
              "      <td>0</td>\n",
              "      <td>1</td>\n",
              "    </tr>\n",
              "    <tr>\n",
              "      <th>197353</th>\n",
              "      <td>0.457143</td>\n",
              "      <td>0.124248</td>\n",
              "      <td>1.000000</td>\n",
              "      <td>0.288059</td>\n",
              "      <td>0.0</td>\n",
              "      <td>0.388740</td>\n",
              "      <td>0.000000</td>\n",
              "      <td>0.0</td>\n",
              "      <td>0.005270</td>\n",
              "      <td>1</td>\n",
              "      <td>0</td>\n",
              "      <td>0</td>\n",
              "      <td>0</td>\n",
              "      <td>0</td>\n",
              "      <td>0</td>\n",
              "      <td>0</td>\n",
              "      <td>1</td>\n",
              "      <td>0</td>\n",
              "      <td>0</td>\n",
              "      <td>0</td>\n",
              "      <td>0</td>\n",
              "      <td>0</td>\n",
              "      <td>0</td>\n",
              "      <td>0</td>\n",
              "      <td>0</td>\n",
              "      <td>0</td>\n",
              "      <td>1</td>\n",
              "      <td>0</td>\n",
              "      <td>0</td>\n",
              "      <td>0</td>\n",
              "      <td>0</td>\n",
              "      <td>0</td>\n",
              "      <td>0</td>\n",
              "      <td>0</td>\n",
              "      <td>0</td>\n",
              "      <td>0</td>\n",
              "      <td>0</td>\n",
              "      <td>0</td>\n",
              "      <td>0</td>\n",
              "      <td>0</td>\n",
              "      <td>...</td>\n",
              "      <td>0</td>\n",
              "      <td>0</td>\n",
              "      <td>0</td>\n",
              "      <td>0</td>\n",
              "      <td>0</td>\n",
              "      <td>0</td>\n",
              "      <td>0</td>\n",
              "      <td>0</td>\n",
              "      <td>0</td>\n",
              "      <td>0</td>\n",
              "      <td>0</td>\n",
              "      <td>0</td>\n",
              "      <td>0</td>\n",
              "      <td>0</td>\n",
              "      <td>0</td>\n",
              "      <td>0</td>\n",
              "      <td>0</td>\n",
              "      <td>0</td>\n",
              "      <td>0</td>\n",
              "      <td>0</td>\n",
              "      <td>0</td>\n",
              "      <td>0</td>\n",
              "      <td>0</td>\n",
              "      <td>0</td>\n",
              "      <td>0</td>\n",
              "      <td>0</td>\n",
              "      <td>0</td>\n",
              "      <td>0</td>\n",
              "      <td>0</td>\n",
              "      <td>0</td>\n",
              "      <td>0</td>\n",
              "      <td>0</td>\n",
              "      <td>0</td>\n",
              "      <td>0</td>\n",
              "      <td>0</td>\n",
              "      <td>0</td>\n",
              "      <td>1</td>\n",
              "      <td>0</td>\n",
              "      <td>0</td>\n",
              "      <td>1</td>\n",
              "    </tr>\n",
              "    <tr>\n",
              "      <th>79506</th>\n",
              "      <td>0.571429</td>\n",
              "      <td>0.100200</td>\n",
              "      <td>1.000000</td>\n",
              "      <td>0.453114</td>\n",
              "      <td>0.0</td>\n",
              "      <td>0.811745</td>\n",
              "      <td>0.900969</td>\n",
              "      <td>0.0</td>\n",
              "      <td>0.007905</td>\n",
              "      <td>1</td>\n",
              "      <td>0</td>\n",
              "      <td>0</td>\n",
              "      <td>1</td>\n",
              "      <td>0</td>\n",
              "      <td>0</td>\n",
              "      <td>0</td>\n",
              "      <td>0</td>\n",
              "      <td>0</td>\n",
              "      <td>0</td>\n",
              "      <td>0</td>\n",
              "      <td>0</td>\n",
              "      <td>0</td>\n",
              "      <td>0</td>\n",
              "      <td>0</td>\n",
              "      <td>0</td>\n",
              "      <td>0</td>\n",
              "      <td>1</td>\n",
              "      <td>0</td>\n",
              "      <td>0</td>\n",
              "      <td>0</td>\n",
              "      <td>0</td>\n",
              "      <td>0</td>\n",
              "      <td>0</td>\n",
              "      <td>0</td>\n",
              "      <td>0</td>\n",
              "      <td>0</td>\n",
              "      <td>0</td>\n",
              "      <td>0</td>\n",
              "      <td>0</td>\n",
              "      <td>0</td>\n",
              "      <td>...</td>\n",
              "      <td>0</td>\n",
              "      <td>0</td>\n",
              "      <td>0</td>\n",
              "      <td>0</td>\n",
              "      <td>0</td>\n",
              "      <td>0</td>\n",
              "      <td>0</td>\n",
              "      <td>0</td>\n",
              "      <td>1</td>\n",
              "      <td>0</td>\n",
              "      <td>0</td>\n",
              "      <td>0</td>\n",
              "      <td>0</td>\n",
              "      <td>0</td>\n",
              "      <td>0</td>\n",
              "      <td>0</td>\n",
              "      <td>0</td>\n",
              "      <td>0</td>\n",
              "      <td>0</td>\n",
              "      <td>0</td>\n",
              "      <td>0</td>\n",
              "      <td>0</td>\n",
              "      <td>0</td>\n",
              "      <td>0</td>\n",
              "      <td>0</td>\n",
              "      <td>0</td>\n",
              "      <td>0</td>\n",
              "      <td>0</td>\n",
              "      <td>0</td>\n",
              "      <td>0</td>\n",
              "      <td>0</td>\n",
              "      <td>0</td>\n",
              "      <td>0</td>\n",
              "      <td>0</td>\n",
              "      <td>0</td>\n",
              "      <td>0</td>\n",
              "      <td>0</td>\n",
              "      <td>0</td>\n",
              "      <td>0</td>\n",
              "      <td>1</td>\n",
              "    </tr>\n",
              "    <tr>\n",
              "      <th>45559</th>\n",
              "      <td>0.628571</td>\n",
              "      <td>0.057114</td>\n",
              "      <td>0.586207</td>\n",
              "      <td>0.356693</td>\n",
              "      <td>0.0</td>\n",
              "      <td>0.049516</td>\n",
              "      <td>0.722521</td>\n",
              "      <td>0.0</td>\n",
              "      <td>0.000000</td>\n",
              "      <td>1</td>\n",
              "      <td>0</td>\n",
              "      <td>0</td>\n",
              "      <td>0</td>\n",
              "      <td>0</td>\n",
              "      <td>0</td>\n",
              "      <td>1</td>\n",
              "      <td>0</td>\n",
              "      <td>0</td>\n",
              "      <td>0</td>\n",
              "      <td>0</td>\n",
              "      <td>0</td>\n",
              "      <td>0</td>\n",
              "      <td>0</td>\n",
              "      <td>0</td>\n",
              "      <td>0</td>\n",
              "      <td>0</td>\n",
              "      <td>1</td>\n",
              "      <td>0</td>\n",
              "      <td>0</td>\n",
              "      <td>0</td>\n",
              "      <td>0</td>\n",
              "      <td>0</td>\n",
              "      <td>0</td>\n",
              "      <td>0</td>\n",
              "      <td>0</td>\n",
              "      <td>0</td>\n",
              "      <td>0</td>\n",
              "      <td>0</td>\n",
              "      <td>0</td>\n",
              "      <td>0</td>\n",
              "      <td>...</td>\n",
              "      <td>0</td>\n",
              "      <td>0</td>\n",
              "      <td>0</td>\n",
              "      <td>0</td>\n",
              "      <td>0</td>\n",
              "      <td>0</td>\n",
              "      <td>0</td>\n",
              "      <td>0</td>\n",
              "      <td>0</td>\n",
              "      <td>0</td>\n",
              "      <td>0</td>\n",
              "      <td>0</td>\n",
              "      <td>0</td>\n",
              "      <td>0</td>\n",
              "      <td>0</td>\n",
              "      <td>0</td>\n",
              "      <td>0</td>\n",
              "      <td>0</td>\n",
              "      <td>0</td>\n",
              "      <td>0</td>\n",
              "      <td>0</td>\n",
              "      <td>0</td>\n",
              "      <td>1</td>\n",
              "      <td>0</td>\n",
              "      <td>0</td>\n",
              "      <td>0</td>\n",
              "      <td>0</td>\n",
              "      <td>0</td>\n",
              "      <td>0</td>\n",
              "      <td>0</td>\n",
              "      <td>0</td>\n",
              "      <td>0</td>\n",
              "      <td>0</td>\n",
              "      <td>0</td>\n",
              "      <td>0</td>\n",
              "      <td>0</td>\n",
              "      <td>0</td>\n",
              "      <td>0</td>\n",
              "      <td>0</td>\n",
              "      <td>1</td>\n",
              "    </tr>\n",
              "    <tr>\n",
              "      <th>...</th>\n",
              "      <td>...</td>\n",
              "      <td>...</td>\n",
              "      <td>...</td>\n",
              "      <td>...</td>\n",
              "      <td>...</td>\n",
              "      <td>...</td>\n",
              "      <td>...</td>\n",
              "      <td>...</td>\n",
              "      <td>...</td>\n",
              "      <td>...</td>\n",
              "      <td>...</td>\n",
              "      <td>...</td>\n",
              "      <td>...</td>\n",
              "      <td>...</td>\n",
              "      <td>...</td>\n",
              "      <td>...</td>\n",
              "      <td>...</td>\n",
              "      <td>...</td>\n",
              "      <td>...</td>\n",
              "      <td>...</td>\n",
              "      <td>...</td>\n",
              "      <td>...</td>\n",
              "      <td>...</td>\n",
              "      <td>...</td>\n",
              "      <td>...</td>\n",
              "      <td>...</td>\n",
              "      <td>...</td>\n",
              "      <td>...</td>\n",
              "      <td>...</td>\n",
              "      <td>...</td>\n",
              "      <td>...</td>\n",
              "      <td>...</td>\n",
              "      <td>...</td>\n",
              "      <td>...</td>\n",
              "      <td>...</td>\n",
              "      <td>...</td>\n",
              "      <td>...</td>\n",
              "      <td>...</td>\n",
              "      <td>...</td>\n",
              "      <td>...</td>\n",
              "      <td>...</td>\n",
              "      <td>...</td>\n",
              "      <td>...</td>\n",
              "      <td>...</td>\n",
              "      <td>...</td>\n",
              "      <td>...</td>\n",
              "      <td>...</td>\n",
              "      <td>...</td>\n",
              "      <td>...</td>\n",
              "      <td>...</td>\n",
              "      <td>...</td>\n",
              "      <td>...</td>\n",
              "      <td>...</td>\n",
              "      <td>...</td>\n",
              "      <td>...</td>\n",
              "      <td>...</td>\n",
              "      <td>...</td>\n",
              "      <td>...</td>\n",
              "      <td>...</td>\n",
              "      <td>...</td>\n",
              "      <td>...</td>\n",
              "      <td>...</td>\n",
              "      <td>...</td>\n",
              "      <td>...</td>\n",
              "      <td>...</td>\n",
              "      <td>...</td>\n",
              "      <td>...</td>\n",
              "      <td>...</td>\n",
              "      <td>...</td>\n",
              "      <td>...</td>\n",
              "      <td>...</td>\n",
              "      <td>...</td>\n",
              "      <td>...</td>\n",
              "      <td>...</td>\n",
              "      <td>...</td>\n",
              "      <td>...</td>\n",
              "      <td>...</td>\n",
              "      <td>...</td>\n",
              "      <td>...</td>\n",
              "      <td>...</td>\n",
              "      <td>...</td>\n",
              "    </tr>\n",
              "    <tr>\n",
              "      <th>193119</th>\n",
              "      <td>0.514286</td>\n",
              "      <td>0.100200</td>\n",
              "      <td>1.000000</td>\n",
              "      <td>0.934166</td>\n",
              "      <td>0.0</td>\n",
              "      <td>0.388740</td>\n",
              "      <td>1.000000</td>\n",
              "      <td>0.0</td>\n",
              "      <td>0.011858</td>\n",
              "      <td>1</td>\n",
              "      <td>0</td>\n",
              "      <td>0</td>\n",
              "      <td>0</td>\n",
              "      <td>0</td>\n",
              "      <td>0</td>\n",
              "      <td>0</td>\n",
              "      <td>1</td>\n",
              "      <td>0</td>\n",
              "      <td>0</td>\n",
              "      <td>0</td>\n",
              "      <td>0</td>\n",
              "      <td>0</td>\n",
              "      <td>0</td>\n",
              "      <td>0</td>\n",
              "      <td>0</td>\n",
              "      <td>0</td>\n",
              "      <td>1</td>\n",
              "      <td>0</td>\n",
              "      <td>0</td>\n",
              "      <td>0</td>\n",
              "      <td>0</td>\n",
              "      <td>0</td>\n",
              "      <td>0</td>\n",
              "      <td>0</td>\n",
              "      <td>0</td>\n",
              "      <td>0</td>\n",
              "      <td>0</td>\n",
              "      <td>0</td>\n",
              "      <td>0</td>\n",
              "      <td>0</td>\n",
              "      <td>...</td>\n",
              "      <td>0</td>\n",
              "      <td>0</td>\n",
              "      <td>0</td>\n",
              "      <td>0</td>\n",
              "      <td>0</td>\n",
              "      <td>0</td>\n",
              "      <td>0</td>\n",
              "      <td>0</td>\n",
              "      <td>0</td>\n",
              "      <td>0</td>\n",
              "      <td>0</td>\n",
              "      <td>0</td>\n",
              "      <td>0</td>\n",
              "      <td>0</td>\n",
              "      <td>0</td>\n",
              "      <td>0</td>\n",
              "      <td>0</td>\n",
              "      <td>0</td>\n",
              "      <td>0</td>\n",
              "      <td>0</td>\n",
              "      <td>0</td>\n",
              "      <td>0</td>\n",
              "      <td>1</td>\n",
              "      <td>0</td>\n",
              "      <td>0</td>\n",
              "      <td>0</td>\n",
              "      <td>0</td>\n",
              "      <td>0</td>\n",
              "      <td>0</td>\n",
              "      <td>0</td>\n",
              "      <td>0</td>\n",
              "      <td>0</td>\n",
              "      <td>0</td>\n",
              "      <td>0</td>\n",
              "      <td>0</td>\n",
              "      <td>0</td>\n",
              "      <td>0</td>\n",
              "      <td>0</td>\n",
              "      <td>0</td>\n",
              "      <td>1</td>\n",
              "    </tr>\n",
              "    <tr>\n",
              "      <th>48521</th>\n",
              "      <td>0.685714</td>\n",
              "      <td>0.271543</td>\n",
              "      <td>1.000000</td>\n",
              "      <td>0.131829</td>\n",
              "      <td>0.0</td>\n",
              "      <td>0.049516</td>\n",
              "      <td>0.277479</td>\n",
              "      <td>0.0</td>\n",
              "      <td>0.000000</td>\n",
              "      <td>1</td>\n",
              "      <td>0</td>\n",
              "      <td>0</td>\n",
              "      <td>0</td>\n",
              "      <td>0</td>\n",
              "      <td>0</td>\n",
              "      <td>0</td>\n",
              "      <td>0</td>\n",
              "      <td>1</td>\n",
              "      <td>0</td>\n",
              "      <td>1</td>\n",
              "      <td>0</td>\n",
              "      <td>0</td>\n",
              "      <td>0</td>\n",
              "      <td>0</td>\n",
              "      <td>0</td>\n",
              "      <td>0</td>\n",
              "      <td>0</td>\n",
              "      <td>0</td>\n",
              "      <td>0</td>\n",
              "      <td>0</td>\n",
              "      <td>0</td>\n",
              "      <td>0</td>\n",
              "      <td>0</td>\n",
              "      <td>0</td>\n",
              "      <td>0</td>\n",
              "      <td>0</td>\n",
              "      <td>0</td>\n",
              "      <td>0</td>\n",
              "      <td>0</td>\n",
              "      <td>0</td>\n",
              "      <td>...</td>\n",
              "      <td>1</td>\n",
              "      <td>0</td>\n",
              "      <td>0</td>\n",
              "      <td>0</td>\n",
              "      <td>0</td>\n",
              "      <td>0</td>\n",
              "      <td>0</td>\n",
              "      <td>0</td>\n",
              "      <td>0</td>\n",
              "      <td>0</td>\n",
              "      <td>0</td>\n",
              "      <td>0</td>\n",
              "      <td>0</td>\n",
              "      <td>0</td>\n",
              "      <td>0</td>\n",
              "      <td>0</td>\n",
              "      <td>0</td>\n",
              "      <td>0</td>\n",
              "      <td>0</td>\n",
              "      <td>0</td>\n",
              "      <td>0</td>\n",
              "      <td>0</td>\n",
              "      <td>0</td>\n",
              "      <td>0</td>\n",
              "      <td>0</td>\n",
              "      <td>0</td>\n",
              "      <td>0</td>\n",
              "      <td>0</td>\n",
              "      <td>0</td>\n",
              "      <td>0</td>\n",
              "      <td>0</td>\n",
              "      <td>0</td>\n",
              "      <td>0</td>\n",
              "      <td>0</td>\n",
              "      <td>0</td>\n",
              "      <td>0</td>\n",
              "      <td>0</td>\n",
              "      <td>0</td>\n",
              "      <td>1</td>\n",
              "      <td>0</td>\n",
              "    </tr>\n",
              "    <tr>\n",
              "      <th>192863</th>\n",
              "      <td>0.714286</td>\n",
              "      <td>0.139279</td>\n",
              "      <td>1.000000</td>\n",
              "      <td>0.202282</td>\n",
              "      <td>0.0</td>\n",
              "      <td>0.188255</td>\n",
              "      <td>0.099031</td>\n",
              "      <td>0.0</td>\n",
              "      <td>0.005270</td>\n",
              "      <td>1</td>\n",
              "      <td>0</td>\n",
              "      <td>0</td>\n",
              "      <td>0</td>\n",
              "      <td>0</td>\n",
              "      <td>0</td>\n",
              "      <td>0</td>\n",
              "      <td>0</td>\n",
              "      <td>1</td>\n",
              "      <td>0</td>\n",
              "      <td>0</td>\n",
              "      <td>0</td>\n",
              "      <td>0</td>\n",
              "      <td>0</td>\n",
              "      <td>0</td>\n",
              "      <td>0</td>\n",
              "      <td>0</td>\n",
              "      <td>1</td>\n",
              "      <td>0</td>\n",
              "      <td>0</td>\n",
              "      <td>0</td>\n",
              "      <td>0</td>\n",
              "      <td>0</td>\n",
              "      <td>0</td>\n",
              "      <td>0</td>\n",
              "      <td>0</td>\n",
              "      <td>0</td>\n",
              "      <td>0</td>\n",
              "      <td>0</td>\n",
              "      <td>0</td>\n",
              "      <td>0</td>\n",
              "      <td>...</td>\n",
              "      <td>0</td>\n",
              "      <td>0</td>\n",
              "      <td>0</td>\n",
              "      <td>0</td>\n",
              "      <td>0</td>\n",
              "      <td>0</td>\n",
              "      <td>0</td>\n",
              "      <td>0</td>\n",
              "      <td>0</td>\n",
              "      <td>0</td>\n",
              "      <td>0</td>\n",
              "      <td>0</td>\n",
              "      <td>0</td>\n",
              "      <td>0</td>\n",
              "      <td>0</td>\n",
              "      <td>0</td>\n",
              "      <td>0</td>\n",
              "      <td>0</td>\n",
              "      <td>0</td>\n",
              "      <td>0</td>\n",
              "      <td>0</td>\n",
              "      <td>0</td>\n",
              "      <td>0</td>\n",
              "      <td>0</td>\n",
              "      <td>0</td>\n",
              "      <td>0</td>\n",
              "      <td>0</td>\n",
              "      <td>0</td>\n",
              "      <td>0</td>\n",
              "      <td>0</td>\n",
              "      <td>0</td>\n",
              "      <td>0</td>\n",
              "      <td>0</td>\n",
              "      <td>0</td>\n",
              "      <td>0</td>\n",
              "      <td>0</td>\n",
              "      <td>1</td>\n",
              "      <td>0</td>\n",
              "      <td>0</td>\n",
              "      <td>1</td>\n",
              "    </tr>\n",
              "    <tr>\n",
              "      <th>187065</th>\n",
              "      <td>0.457143</td>\n",
              "      <td>0.074148</td>\n",
              "      <td>1.000000</td>\n",
              "      <td>0.150004</td>\n",
              "      <td>0.0</td>\n",
              "      <td>0.049516</td>\n",
              "      <td>0.722521</td>\n",
              "      <td>1.0</td>\n",
              "      <td>0.017128</td>\n",
              "      <td>1</td>\n",
              "      <td>0</td>\n",
              "      <td>0</td>\n",
              "      <td>0</td>\n",
              "      <td>0</td>\n",
              "      <td>0</td>\n",
              "      <td>0</td>\n",
              "      <td>0</td>\n",
              "      <td>1</td>\n",
              "      <td>0</td>\n",
              "      <td>0</td>\n",
              "      <td>0</td>\n",
              "      <td>0</td>\n",
              "      <td>0</td>\n",
              "      <td>0</td>\n",
              "      <td>0</td>\n",
              "      <td>0</td>\n",
              "      <td>1</td>\n",
              "      <td>0</td>\n",
              "      <td>0</td>\n",
              "      <td>0</td>\n",
              "      <td>0</td>\n",
              "      <td>0</td>\n",
              "      <td>0</td>\n",
              "      <td>0</td>\n",
              "      <td>0</td>\n",
              "      <td>0</td>\n",
              "      <td>0</td>\n",
              "      <td>0</td>\n",
              "      <td>0</td>\n",
              "      <td>0</td>\n",
              "      <td>...</td>\n",
              "      <td>0</td>\n",
              "      <td>0</td>\n",
              "      <td>0</td>\n",
              "      <td>0</td>\n",
              "      <td>0</td>\n",
              "      <td>0</td>\n",
              "      <td>0</td>\n",
              "      <td>0</td>\n",
              "      <td>1</td>\n",
              "      <td>0</td>\n",
              "      <td>0</td>\n",
              "      <td>0</td>\n",
              "      <td>0</td>\n",
              "      <td>0</td>\n",
              "      <td>0</td>\n",
              "      <td>0</td>\n",
              "      <td>0</td>\n",
              "      <td>0</td>\n",
              "      <td>0</td>\n",
              "      <td>0</td>\n",
              "      <td>0</td>\n",
              "      <td>0</td>\n",
              "      <td>0</td>\n",
              "      <td>0</td>\n",
              "      <td>0</td>\n",
              "      <td>0</td>\n",
              "      <td>0</td>\n",
              "      <td>0</td>\n",
              "      <td>0</td>\n",
              "      <td>0</td>\n",
              "      <td>0</td>\n",
              "      <td>0</td>\n",
              "      <td>0</td>\n",
              "      <td>0</td>\n",
              "      <td>0</td>\n",
              "      <td>0</td>\n",
              "      <td>0</td>\n",
              "      <td>0</td>\n",
              "      <td>0</td>\n",
              "      <td>1</td>\n",
              "    </tr>\n",
              "    <tr>\n",
              "      <th>58744</th>\n",
              "      <td>0.828571</td>\n",
              "      <td>0.169339</td>\n",
              "      <td>1.000000</td>\n",
              "      <td>0.805996</td>\n",
              "      <td>0.0</td>\n",
              "      <td>0.188255</td>\n",
              "      <td>0.900969</td>\n",
              "      <td>0.0</td>\n",
              "      <td>0.019763</td>\n",
              "      <td>1</td>\n",
              "      <td>0</td>\n",
              "      <td>0</td>\n",
              "      <td>0</td>\n",
              "      <td>0</td>\n",
              "      <td>0</td>\n",
              "      <td>0</td>\n",
              "      <td>0</td>\n",
              "      <td>0</td>\n",
              "      <td>1</td>\n",
              "      <td>1</td>\n",
              "      <td>0</td>\n",
              "      <td>0</td>\n",
              "      <td>0</td>\n",
              "      <td>0</td>\n",
              "      <td>0</td>\n",
              "      <td>0</td>\n",
              "      <td>0</td>\n",
              "      <td>0</td>\n",
              "      <td>0</td>\n",
              "      <td>0</td>\n",
              "      <td>0</td>\n",
              "      <td>0</td>\n",
              "      <td>0</td>\n",
              "      <td>0</td>\n",
              "      <td>0</td>\n",
              "      <td>0</td>\n",
              "      <td>0</td>\n",
              "      <td>0</td>\n",
              "      <td>0</td>\n",
              "      <td>0</td>\n",
              "      <td>...</td>\n",
              "      <td>0</td>\n",
              "      <td>0</td>\n",
              "      <td>0</td>\n",
              "      <td>0</td>\n",
              "      <td>0</td>\n",
              "      <td>0</td>\n",
              "      <td>0</td>\n",
              "      <td>0</td>\n",
              "      <td>0</td>\n",
              "      <td>0</td>\n",
              "      <td>0</td>\n",
              "      <td>0</td>\n",
              "      <td>0</td>\n",
              "      <td>0</td>\n",
              "      <td>0</td>\n",
              "      <td>0</td>\n",
              "      <td>0</td>\n",
              "      <td>0</td>\n",
              "      <td>1</td>\n",
              "      <td>0</td>\n",
              "      <td>0</td>\n",
              "      <td>0</td>\n",
              "      <td>0</td>\n",
              "      <td>0</td>\n",
              "      <td>0</td>\n",
              "      <td>0</td>\n",
              "      <td>0</td>\n",
              "      <td>0</td>\n",
              "      <td>0</td>\n",
              "      <td>0</td>\n",
              "      <td>0</td>\n",
              "      <td>0</td>\n",
              "      <td>0</td>\n",
              "      <td>0</td>\n",
              "      <td>0</td>\n",
              "      <td>0</td>\n",
              "      <td>0</td>\n",
              "      <td>0</td>\n",
              "      <td>0</td>\n",
              "      <td>1</td>\n",
              "    </tr>\n",
              "  </tbody>\n",
              "</table>\n",
              "<p>265474 rows × 325 columns</p>\n",
              "</div>"
            ],
            "text/plain": [
              "        yearOfRegistration  ...  notRepairedDamage_nein\n",
              "44473             0.342857  ...                       1\n",
              "196272            0.742857  ...                       1\n",
              "197353            0.457143  ...                       1\n",
              "79506             0.571429  ...                       1\n",
              "45559             0.628571  ...                       1\n",
              "...                    ...  ...                     ...\n",
              "193119            0.514286  ...                       1\n",
              "48521             0.685714  ...                       0\n",
              "192863            0.714286  ...                       1\n",
              "187065            0.457143  ...                       1\n",
              "58744             0.828571  ...                       1\n",
              "\n",
              "[265474 rows x 325 columns]"
            ]
          },
          "metadata": {
            "tags": []
          },
          "execution_count": 55
        }
      ]
    },
    {
      "cell_type": "markdown",
      "metadata": {
        "id": "SieiVqDMSZKw"
      },
      "source": [
        "# Model"
      ]
    },
    {
      "cell_type": "code",
      "metadata": {
        "id": "bNpuIGflSZKx"
      },
      "source": [
        "from sklearn.ensemble import GradientBoostingRegressor, RandomForestRegressor\n",
        "import time"
      ],
      "execution_count": 74,
      "outputs": []
    },
    {
      "cell_type": "code",
      "metadata": {
        "colab": {
          "base_uri": "https://localhost:8080/"
        },
        "id": "Dbi3sd0vnEEE",
        "outputId": "34c689bd-9e15-4181-9ee3-6297aab86f4c"
      },
      "source": [
        "\r\n",
        "time2 = time.time()\r\n",
        "gb = GradientBoostingRegressor(n_estimators = 30, subsample = 0.7, max_depth = 4)\r\n",
        "gb.fit(x_train,y_train)\r\n",
        "\r\n",
        "print(time.time() - time2)"
      ],
      "execution_count": 75,
      "outputs": [
        {
          "output_type": "stream",
          "text": [
            "38.89496874809265\n"
          ],
          "name": "stdout"
        }
      ]
    },
    {
      "cell_type": "code",
      "metadata": {
        "id": "AuIgWR6JaKYU"
      },
      "source": [
        "import xgboost as xgb\r\n",
        "from sklearn.model_selection import GridSearchCV\r\n",
        "xgb_obj = xgb.XGBRegressor(objective = 'reg:squarederror', tree_method = \"gpu_hist\") \r\n",
        "parameters ={'n_estimators': [200], \r\n",
        "              'learning_rate': [0.01],\r\n",
        "              'max_depth': [7],\r\n",
        "              'reg_lambda': [0.5]}\r\n",
        "xgb_reg = GridSearchCV(estimator=xgb_obj, param_grid=parameters, cv=2, n_jobs=-1).fit(x_train, y_train)"
      ],
      "execution_count": 63,
      "outputs": []
    },
    {
      "cell_type": "code",
      "metadata": {
        "colab": {
          "base_uri": "https://localhost:8080/"
        },
        "id": "pDGu2wPNSZKy",
        "outputId": "ec78c241-1b6a-4e0d-b2c1-65caa39217e6"
      },
      "source": [
        "print(\"randomforest:\\n\",abs(gb.predict(x_test) - y_test).describe(),\"\\ngradient boosting:\",\r\n",
        "      abs(xgb_reg.predict(x_test) - y_test).describe())"
      ],
      "execution_count": 88,
      "outputs": [
        {
          "output_type": "stream",
          "text": [
            "randomforest:\n",
            " count    66369.000000\n",
            "mean      1779.864805\n",
            "std       2256.313098\n",
            "min          0.076235\n",
            "25%        578.998329\n",
            "50%       1126.612246\n",
            "75%       2058.509465\n",
            "max      37274.887691\n",
            "Name: price, dtype: float64 \n",
            "gradient boosting: count    66369.000000\n",
            "mean      1526.835938\n",
            "std       2167.911865\n",
            "min          0.049927\n",
            "25%        355.108582\n",
            "50%        785.637207\n",
            "75%       1802.298096\n",
            "max      37821.324219\n",
            "Name: price, dtype: float64\n"
          ],
          "name": "stdout"
        }
      ]
    },
    {
      "cell_type": "code",
      "metadata": {
        "colab": {
          "base_uri": "https://localhost:8080/",
          "height": 873
        },
        "id": "FmswF8CNhZMj",
        "outputId": "e1d98f59-8df7-4f99-f1e0-eadef351a91c"
      },
      "source": [
        "plt.figure(figsize=[16,12])\r\n",
        "plt.subplot(221)\r\n",
        "plt.hist(y_test,bins=100,color=\"tab:orange\")\r\n",
        "plt.title(\"Ground truth: minimum days online\")\r\n",
        "plt.grid()\r\n",
        "\r\n",
        "plt.subplot(222)\r\n",
        "plt.hist(xgb_reg.predict(x_test), bins=100,color=\"tab:green\")\r\n",
        "plt.hist(y_test,bins=100,color=\"tab:orange\",alpha = 0.4)\r\n",
        "plt.title(\"XGBoost: price prediction\")\r\n",
        "plt.grid()\r\n",
        "\r\n",
        "\r\n",
        "plt.subplot(223)\r\n",
        "plt.hist(gb.predict(x_test),bins=100,color=\"tab:blue\")\r\n",
        "plt.title(\"Gradient boosting: price prediction\")\r\n",
        "plt.hist(y_test,bins=100,color=\"tab:orange\",alpha = 0.4)\r\n",
        "plt.grid()\r\n",
        "\r\n",
        "\r\n",
        "plt.subplot(224)\r\n",
        "plt.hist(xgb_reg.predict(x_test) - y_test,color=\"tab:green\", bins=1000, label=\"XGBoost error\")\r\n",
        "plt.hist(gb.predict(x_test) - y_test,alpha=0.5,color=\"tab:red\", bins=1000,label=\"gradient boosting error\")\r\n",
        "plt.grid()\r\n",
        "plt.legend()\r\n",
        "\r\n",
        "plt.tight_layout()\r\n",
        "plt.savefig(\"/content/xgb.png\")"
      ],
      "execution_count": 95,
      "outputs": [
        {
          "output_type": "display_data",
          "data": {
            "image/png": "[encoded data removed]",
            "text/plain": [
              "<Figure size 1152x864 with 4 Axes>"
            ]
          },
          "metadata": {
            "tags": [],
            "needs_background": "light"
          }
        }
      ]
    }
  ]
}